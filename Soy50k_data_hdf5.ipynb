{
 "cells": [
  {
   "cell_type": "markdown",
   "id": "777c5710",
   "metadata": {},
   "source": [
    "# Source: Soybase \n",
    "Data for 20,087 G. max and G. soja accessions genotyped with 42,509 SNPs (Wm82.a2)"
   ]
  },
  {
   "cell_type": "markdown",
   "id": "d7a207c2",
   "metadata": {},
   "source": [
    "scikit-allel is a Python package intended to enable exploratory analysis of large-scale genetic variation"
   ]
  },
  {
   "cell_type": "markdown",
   "id": "87e9d26a",
   "metadata": {},
   "source": [
    "# import the libraries"
   ]
  },
  {
   "cell_type": "code",
   "execution_count": 1,
   "id": "e408d4f1",
   "metadata": {},
   "outputs": [
    {
     "name": "stdout",
     "output_type": "stream",
     "text": [
      "scikit-allel 1.3.5\n"
     ]
    }
   ],
   "source": [
    "import numpy as np\n",
    "import scipy\n",
    "import pandas as pd\n",
    "import matplotlib as mpl\n",
    "import matplotlib.pyplot as plt\n",
    "%matplotlib inline\n",
    "import seaborn as sns\n",
    "sns.set_style('white')\n",
    "sns.set_style('ticks')\n",
    "sns.set_context('notebook')\n",
    "import h5py  # hdf5 file \n",
    "import allel;  # # import scikit-allel\n",
    "print('scikit-allel', allel.__version__) # check which version is installed"
   ]
  },
  {
   "cell_type": "markdown",
   "id": "14cadd89",
   "metadata": {},
   "source": [
    "# read_vcf()"
   ]
  },
  {
   "cell_type": "code",
   "execution_count": 2,
   "id": "4dece5fc",
   "metadata": {},
   "outputs": [
    {
     "name": "stdout",
     "output_type": "stream",
     "text": [
      "1.3.5\n"
     ]
    }
   ],
   "source": [
    "# import scikit-allel\n",
    "import allel\n",
    "# check which version is installed\n",
    "print(allel.__version__)"
   ]
  },
  {
   "cell_type": "code",
   "execution_count": 3,
   "id": "e231549b",
   "metadata": {},
   "outputs": [],
   "source": [
    "callset = allel.read_vcf('soysnp50k_wm82.a2_41317.vcf.gz')"
   ]
  },
  {
   "cell_type": "code",
   "execution_count": 4,
   "id": "bedf41af",
   "metadata": {},
   "outputs": [
    {
     "data": {
      "text/plain": [
       "['calldata/GT',\n",
       " 'samples',\n",
       " 'variants/ALT',\n",
       " 'variants/CHROM',\n",
       " 'variants/FILTER_PASS',\n",
       " 'variants/ID',\n",
       " 'variants/POS',\n",
       " 'variants/QUAL',\n",
       " 'variants/REF']"
      ]
     },
     "execution_count": 4,
     "metadata": {},
     "output_type": "execute_result"
    }
   ],
   "source": [
    "sorted(callset.keys())"
   ]
  },
  {
   "cell_type": "markdown",
   "id": "21507ab2",
   "metadata": {},
   "source": [
    "# vcf_to_dataframe()\n",
    "\n",
    "The vcf_to_dataframe() function extracts all data except samples and genotyping calls from a VCF and loads into a df."
   ]
  },
  {
   "cell_type": "code",
   "execution_count": 5,
   "id": "5126c77e",
   "metadata": {},
   "outputs": [
    {
     "data": {
      "text/html": [
       "<div>\n",
       "<style scoped>\n",
       "    .dataframe tbody tr th:only-of-type {\n",
       "        vertical-align: middle;\n",
       "    }\n",
       "\n",
       "    .dataframe tbody tr th {\n",
       "        vertical-align: top;\n",
       "    }\n",
       "\n",
       "    .dataframe thead th {\n",
       "        text-align: right;\n",
       "    }\n",
       "</style>\n",
       "<table border=\"1\" class=\"dataframe\">\n",
       "  <thead>\n",
       "    <tr style=\"text-align: right;\">\n",
       "      <th></th>\n",
       "      <th>CHROM</th>\n",
       "      <th>POS</th>\n",
       "      <th>ID</th>\n",
       "      <th>REF</th>\n",
       "      <th>ALT_1</th>\n",
       "      <th>ALT_2</th>\n",
       "      <th>ALT_3</th>\n",
       "      <th>QUAL</th>\n",
       "      <th>FILTER_PASS</th>\n",
       "    </tr>\n",
       "  </thead>\n",
       "  <tbody>\n",
       "    <tr>\n",
       "      <th>0</th>\n",
       "      <td>Chr01</td>\n",
       "      <td>24952</td>\n",
       "      <td>ss715578788</td>\n",
       "      <td>A</td>\n",
       "      <td>G</td>\n",
       "      <td>NaN</td>\n",
       "      <td>NaN</td>\n",
       "      <td>NaN</td>\n",
       "      <td>False</td>\n",
       "    </tr>\n",
       "    <tr>\n",
       "      <th>1</th>\n",
       "      <td>Chr01</td>\n",
       "      <td>26003</td>\n",
       "      <td>ss715578818</td>\n",
       "      <td>C</td>\n",
       "      <td>T</td>\n",
       "      <td>NaN</td>\n",
       "      <td>NaN</td>\n",
       "      <td>NaN</td>\n",
       "      <td>False</td>\n",
       "    </tr>\n",
       "    <tr>\n",
       "      <th>2</th>\n",
       "      <td>Chr01</td>\n",
       "      <td>29671</td>\n",
       "      <td>ss715578923</td>\n",
       "      <td>A</td>\n",
       "      <td>G</td>\n",
       "      <td>NaN</td>\n",
       "      <td>NaN</td>\n",
       "      <td>NaN</td>\n",
       "      <td>False</td>\n",
       "    </tr>\n",
       "    <tr>\n",
       "      <th>3</th>\n",
       "      <td>Chr01</td>\n",
       "      <td>30712</td>\n",
       "      <td>ss715578960</td>\n",
       "      <td>G</td>\n",
       "      <td>A</td>\n",
       "      <td>NaN</td>\n",
       "      <td>NaN</td>\n",
       "      <td>NaN</td>\n",
       "      <td>False</td>\n",
       "    </tr>\n",
       "    <tr>\n",
       "      <th>4</th>\n",
       "      <td>Chr01</td>\n",
       "      <td>37018</td>\n",
       "      <td>ss715579193</td>\n",
       "      <td>C</td>\n",
       "      <td>T</td>\n",
       "      <td>NaN</td>\n",
       "      <td>NaN</td>\n",
       "      <td>NaN</td>\n",
       "      <td>False</td>\n",
       "    </tr>\n",
       "  </tbody>\n",
       "</table>\n",
       "</div>"
      ],
      "text/plain": [
       "   CHROM    POS           ID REF ALT_1  ALT_2  ALT_3  QUAL  FILTER_PASS\n",
       "0  Chr01  24952  ss715578788   A     G    NaN    NaN   NaN        False\n",
       "1  Chr01  26003  ss715578818   C     T    NaN    NaN   NaN        False\n",
       "2  Chr01  29671  ss715578923   A     G    NaN    NaN   NaN        False\n",
       "3  Chr01  30712  ss715578960   G     A    NaN    NaN   NaN        False\n",
       "4  Chr01  37018  ss715579193   C     T    NaN    NaN   NaN        False"
      ]
     },
     "execution_count": 5,
     "metadata": {},
     "output_type": "execute_result"
    }
   ],
   "source": [
    "df1 = allel.vcf_to_dataframe('soysnp50k_wm82.a2_41317.vcf.gz')\n",
    "df1.head()"
   ]
  },
  {
   "cell_type": "markdown",
   "id": "a7b01a67",
   "metadata": {},
   "source": [
    "# samples array (header line from VCF file)"
   ]
  },
  {
   "cell_type": "code",
   "execution_count": 6,
   "id": "82062b0b",
   "metadata": {},
   "outputs": [
    {
     "name": "stdout",
     "output_type": "stream",
     "text": [
      "20087\n"
     ]
    },
    {
     "data": {
      "text/plain": [
       "array(['PI86046', 'PI90208', 'PI219698', ..., 'PI587906', 'PI587946',\n",
       "       'PI603516'], dtype=object)"
      ]
     },
     "execution_count": 6,
     "metadata": {},
     "output_type": "execute_result"
    }
   ],
   "source": [
    "# sampels array\n",
    "samples=callset['samples']\n",
    "print(samples.size)\n",
    "samples"
   ]
  },
  {
   "cell_type": "code",
   "execution_count": 7,
   "id": "c141f079",
   "metadata": {},
   "outputs": [],
   "source": [
    "# convert samples array to dataframe\n",
    "df2 = pd.DataFrame(data = samples)\n",
    "#df2.head()"
   ]
  },
  {
   "cell_type": "code",
   "execution_count": 8,
   "id": "ef0463e0",
   "metadata": {},
   "outputs": [
    {
     "data": {
      "text/html": [
       "<div>\n",
       "<style scoped>\n",
       "    .dataframe tbody tr th:only-of-type {\n",
       "        vertical-align: middle;\n",
       "    }\n",
       "\n",
       "    .dataframe tbody tr th {\n",
       "        vertical-align: top;\n",
       "    }\n",
       "\n",
       "    .dataframe thead th {\n",
       "        text-align: right;\n",
       "    }\n",
       "</style>\n",
       "<table border=\"1\" class=\"dataframe\">\n",
       "  <thead>\n",
       "    <tr style=\"text-align: right;\">\n",
       "      <th></th>\n",
       "      <th>0</th>\n",
       "      <th>1</th>\n",
       "      <th>2</th>\n",
       "      <th>3</th>\n",
       "      <th>4</th>\n",
       "      <th>5</th>\n",
       "      <th>6</th>\n",
       "      <th>7</th>\n",
       "      <th>8</th>\n",
       "      <th>9</th>\n",
       "      <th>...</th>\n",
       "      <th>20077</th>\n",
       "      <th>20078</th>\n",
       "      <th>20079</th>\n",
       "      <th>20080</th>\n",
       "      <th>20081</th>\n",
       "      <th>20082</th>\n",
       "      <th>20083</th>\n",
       "      <th>20084</th>\n",
       "      <th>20085</th>\n",
       "      <th>20086</th>\n",
       "    </tr>\n",
       "  </thead>\n",
       "  <tbody>\n",
       "    <tr>\n",
       "      <th>0</th>\n",
       "      <td>PI86046</td>\n",
       "      <td>PI90208</td>\n",
       "      <td>PI219698</td>\n",
       "      <td>PI253651A</td>\n",
       "      <td>PI347550A</td>\n",
       "      <td>PI398807</td>\n",
       "      <td>PI408055A</td>\n",
       "      <td>PI408069</td>\n",
       "      <td>PI408169A</td>\n",
       "      <td>PI408169B</td>\n",
       "      <td>...</td>\n",
       "      <td>PI574480B</td>\n",
       "      <td>PI578360</td>\n",
       "      <td>PI578362</td>\n",
       "      <td>PI639693</td>\n",
       "      <td>PI657626</td>\n",
       "      <td>PI634759</td>\n",
       "      <td>PI423967</td>\n",
       "      <td>PI587906</td>\n",
       "      <td>PI587946</td>\n",
       "      <td>PI603516</td>\n",
       "    </tr>\n",
       "  </tbody>\n",
       "</table>\n",
       "<p>1 rows × 20087 columns</p>\n",
       "</div>"
      ],
      "text/plain": [
       "     0        1         2          3          4         5          6      \\\n",
       "0  PI86046  PI90208  PI219698  PI253651A  PI347550A  PI398807  PI408055A   \n",
       "\n",
       "      7          8          9      ...      20077     20078     20079  \\\n",
       "0  PI408069  PI408169A  PI408169B  ...  PI574480B  PI578360  PI578362   \n",
       "\n",
       "      20080     20081     20082     20083     20084     20085     20086  \n",
       "0  PI639693  PI657626  PI634759  PI423967  PI587906  PI587946  PI603516  \n",
       "\n",
       "[1 rows x 20087 columns]"
      ]
     },
     "execution_count": 8,
     "metadata": {},
     "output_type": "execute_result"
    }
   ],
   "source": [
    "# transpose samples dataframe\n",
    "samples_df=df2.T\n",
    "samples_df"
   ]
  },
  {
   "cell_type": "code",
   "execution_count": 9,
   "id": "f0ef3325",
   "metadata": {},
   "outputs": [
    {
     "data": {
      "text/html": [
       "<div>\n",
       "<style scoped>\n",
       "    .dataframe tbody tr th:only-of-type {\n",
       "        vertical-align: middle;\n",
       "    }\n",
       "\n",
       "    .dataframe tbody tr th {\n",
       "        vertical-align: top;\n",
       "    }\n",
       "\n",
       "    .dataframe thead th {\n",
       "        text-align: right;\n",
       "    }\n",
       "</style>\n",
       "<table border=\"1\" class=\"dataframe\">\n",
       "  <thead>\n",
       "    <tr style=\"text-align: right;\">\n",
       "      <th></th>\n",
       "      <th>PI86046</th>\n",
       "      <th>PI90208</th>\n",
       "      <th>PI219698</th>\n",
       "      <th>PI253651A</th>\n",
       "      <th>PI347550A</th>\n",
       "      <th>PI398807</th>\n",
       "      <th>PI408055A</th>\n",
       "      <th>PI408069</th>\n",
       "      <th>PI408169A</th>\n",
       "      <th>PI408169B</th>\n",
       "      <th>...</th>\n",
       "      <th>PI574480B</th>\n",
       "      <th>PI578360</th>\n",
       "      <th>PI578362</th>\n",
       "      <th>PI639693</th>\n",
       "      <th>PI657626</th>\n",
       "      <th>PI634759</th>\n",
       "      <th>PI423967</th>\n",
       "      <th>PI587906</th>\n",
       "      <th>PI587946</th>\n",
       "      <th>PI603516</th>\n",
       "    </tr>\n",
       "  </thead>\n",
       "  <tbody>\n",
       "    <tr>\n",
       "      <th>0</th>\n",
       "      <td>PI86046</td>\n",
       "      <td>PI90208</td>\n",
       "      <td>PI219698</td>\n",
       "      <td>PI253651A</td>\n",
       "      <td>PI347550A</td>\n",
       "      <td>PI398807</td>\n",
       "      <td>PI408055A</td>\n",
       "      <td>PI408069</td>\n",
       "      <td>PI408169A</td>\n",
       "      <td>PI408169B</td>\n",
       "      <td>...</td>\n",
       "      <td>PI574480B</td>\n",
       "      <td>PI578360</td>\n",
       "      <td>PI578362</td>\n",
       "      <td>PI639693</td>\n",
       "      <td>PI657626</td>\n",
       "      <td>PI634759</td>\n",
       "      <td>PI423967</td>\n",
       "      <td>PI587906</td>\n",
       "      <td>PI587946</td>\n",
       "      <td>PI603516</td>\n",
       "    </tr>\n",
       "  </tbody>\n",
       "</table>\n",
       "<p>1 rows × 20087 columns</p>\n",
       "</div>"
      ],
      "text/plain": [
       "0  PI86046  PI90208  PI219698  PI253651A  PI347550A  PI398807  PI408055A  \\\n",
       "0  PI86046  PI90208  PI219698  PI253651A  PI347550A  PI398807  PI408055A   \n",
       "\n",
       "0  PI408069  PI408169A  PI408169B  ...  PI574480B  PI578360  PI578362  \\\n",
       "0  PI408069  PI408169A  PI408169B  ...  PI574480B  PI578360  PI578362   \n",
       "\n",
       "0  PI639693  PI657626  PI634759  PI423967  PI587906  PI587946  PI603516  \n",
       "0  PI639693  PI657626  PI634759  PI423967  PI587906  PI587946  PI603516  \n",
       "\n",
       "[1 rows x 20087 columns]"
      ]
     },
     "execution_count": 9,
     "metadata": {},
     "output_type": "execute_result"
    }
   ],
   "source": [
    "# column headers of dataframe\n",
    "samples_df.columns = samples_df.iloc[0]\n",
    "samples_df"
   ]
  },
  {
   "cell_type": "markdown",
   "id": "70b5d6b6",
   "metadata": {},
   "source": [
    "# genotype array from VCF file\n",
    "\n",
    "-1 to indicate a missing value; 0=reference, 1=alternate allele"
   ]
  },
  {
   "cell_type": "code",
   "execution_count": 10,
   "id": "ad6abb5a",
   "metadata": {},
   "outputs": [
    {
     "data": {
      "text/plain": [
       "array([[[ 1,  1],\n",
       "        [ 0,  0],\n",
       "        [-1, -1],\n",
       "        ...,\n",
       "        [ 0,  0],\n",
       "        [ 0,  0],\n",
       "        [ 0,  1]]], dtype=int8)"
      ]
     },
     "execution_count": 10,
     "metadata": {},
     "output_type": "execute_result"
    }
   ],
   "source": [
    "geno=callset['calldata/GT'] \n",
    "geno[:1]"
   ]
  },
  {
   "cell_type": "code",
   "execution_count": 11,
   "id": "f0f3c0ee",
   "metadata": {},
   "outputs": [
    {
     "data": {
      "text/html": [
       "<div class=\"allel allel-DisplayAs2D\"><span>&lt;GenotypeArray shape=(42195, 20087, 2) dtype=int8&gt;</span><table><thead><tr><th></th><th style=\"text-align: center\">0</th><th style=\"text-align: center\">1</th><th style=\"text-align: center\">2</th><th style=\"text-align: center\">3</th><th style=\"text-align: center\">4</th><th style=\"text-align: center\">...</th><th style=\"text-align: center\">20082</th><th style=\"text-align: center\">20083</th><th style=\"text-align: center\">20084</th><th style=\"text-align: center\">20085</th><th style=\"text-align: center\">20086</th></tr></thead><tbody><tr><th style=\"text-align: center; background-color: white; border-right: 1px solid black; \">0</th><td style=\"text-align: center\">1/1</td><td style=\"text-align: center\">0/0</td><td style=\"text-align: center\">./.</td><td style=\"text-align: center\">0/0</td><td style=\"text-align: center\">0/0</td><td style=\"text-align: center\">...</td><td style=\"text-align: center\">0/0</td><td style=\"text-align: center\">0/0</td><td style=\"text-align: center\">0/0</td><td style=\"text-align: center\">0/0</td><td style=\"text-align: center\">0/1</td></tr><tr><th style=\"text-align: center; background-color: white; border-right: 1px solid black; \">1</th><td style=\"text-align: center\">1/1</td><td style=\"text-align: center\">0/0</td><td style=\"text-align: center\">./.</td><td style=\"text-align: center\">0/0</td><td style=\"text-align: center\">0/0</td><td style=\"text-align: center\">...</td><td style=\"text-align: center\">0/0</td><td style=\"text-align: center\">0/0</td><td style=\"text-align: center\">0/0</td><td style=\"text-align: center\">0/0</td><td style=\"text-align: center\">0/1</td></tr><tr><th style=\"text-align: center; background-color: white; border-right: 1px solid black; \">2</th><td style=\"text-align: center\">1/1</td><td style=\"text-align: center\">0/0</td><td style=\"text-align: center\">0/1</td><td style=\"text-align: center\">0/0</td><td style=\"text-align: center\">0/0</td><td style=\"text-align: center\">...</td><td style=\"text-align: center\">0/0</td><td style=\"text-align: center\">0/0</td><td style=\"text-align: center\">0/0</td><td style=\"text-align: center\">0/0</td><td style=\"text-align: center\">0/1</td></tr><tr><th style=\"text-align: center; background-color: white; border-right: 1px solid black; \">...</th><td style=\"text-align: center\" colspan=\"12\">...</td></tr><tr><th style=\"text-align: center; background-color: white; border-right: 1px solid black; \">42192</th><td style=\"text-align: center\">0/0</td><td style=\"text-align: center\">0/0</td><td style=\"text-align: center\">0/0</td><td style=\"text-align: center\">0/0</td><td style=\"text-align: center\">1/1</td><td style=\"text-align: center\">...</td><td style=\"text-align: center\">0/0</td><td style=\"text-align: center\">0/0</td><td style=\"text-align: center\">0/0</td><td style=\"text-align: center\">1/1</td><td style=\"text-align: center\">./.</td></tr><tr><th style=\"text-align: center; background-color: white; border-right: 1px solid black; \">42193</th><td style=\"text-align: center\">0/0</td><td style=\"text-align: center\">1/1</td><td style=\"text-align: center\">1/1</td><td style=\"text-align: center\">1/1</td><td style=\"text-align: center\">1/1</td><td style=\"text-align: center\">...</td><td style=\"text-align: center\">1/1</td><td style=\"text-align: center\">0/0</td><td style=\"text-align: center\">1/1</td><td style=\"text-align: center\">0/1</td><td style=\"text-align: center\">1/1</td></tr><tr><th style=\"text-align: center; background-color: white; border-right: 1px solid black; \">42194</th><td style=\"text-align: center\">0/0</td><td style=\"text-align: center\">0/0</td><td style=\"text-align: center\">0/0</td><td style=\"text-align: center\">0/0</td><td style=\"text-align: center\">1/1</td><td style=\"text-align: center\">...</td><td style=\"text-align: center\">0/0</td><td style=\"text-align: center\">0/0</td><td style=\"text-align: center\">0/0</td><td style=\"text-align: center\">./.</td><td style=\"text-align: center\">0/0</td></tr></tbody></table></div>"
      ],
      "text/plain": [
       "<GenotypeArray shape=(42195, 20087, 2) dtype=int8>\n",
       "1/1 0/0 ./. 0/0 0/0 ... 0/0 0/0 0/0 0/0 0/1\n",
       "1/1 0/0 ./. 0/0 0/0 ... 0/0 0/0 0/0 0/0 0/1\n",
       "1/1 0/0 0/1 0/0 0/0 ... 0/0 0/0 0/0 0/0 0/1\n",
       "...\n",
       "0/0 0/0 0/0 0/0 1/1 ... 0/0 0/0 0/0 1/1 ./.\n",
       "0/0 1/1 1/1 1/1 1/1 ... 1/1 0/0 1/1 0/1 1/1\n",
       "0/0 0/0 0/0 0/0 1/1 ... 0/0 0/0 0/0 ./. 0/0"
      ]
     },
     "execution_count": 11,
     "metadata": {},
     "output_type": "execute_result"
    }
   ],
   "source": [
    "# Genotype array\n",
    "genotypes=allel.GenotypeArray(geno)\n",
    "genotypes"
   ]
  },
  {
   "cell_type": "markdown",
   "id": "207b5ff2",
   "metadata": {},
   "source": [
    "### Reshape genotype array to view it as haplotypes by dropping the ploidy dimension\n",
    "\n",
    "seems to_haplotypes() generates hapotype arrays with doubled the number of samples (from 20087 to 40174); each value (1/1) is split in to two columns (1 and 1). "
   ]
  },
  {
   "cell_type": "code",
   "execution_count": 12,
   "id": "ff7310ea",
   "metadata": {},
   "outputs": [
    {
     "data": {
      "text/html": [
       "<div class=\"allel allel-DisplayAs2D\"><span>&lt;HaplotypeArray shape=(42195, 40174) dtype=int8&gt;</span><table><thead><tr><th></th><th style=\"text-align: center\">0</th><th style=\"text-align: center\">1</th><th style=\"text-align: center\">2</th><th style=\"text-align: center\">3</th><th style=\"text-align: center\">4</th><th style=\"text-align: center\">...</th><th style=\"text-align: center\">40169</th><th style=\"text-align: center\">40170</th><th style=\"text-align: center\">40171</th><th style=\"text-align: center\">40172</th><th style=\"text-align: center\">40173</th></tr></thead><tbody><tr><th style=\"text-align: center; background-color: white; border-right: 1px solid black; \">0</th><td style=\"text-align: center\">1</td><td style=\"text-align: center\">1</td><td style=\"text-align: center\">0</td><td style=\"text-align: center\">0</td><td style=\"text-align: center\">.</td><td style=\"text-align: center\">...</td><td style=\"text-align: center\">0</td><td style=\"text-align: center\">0</td><td style=\"text-align: center\">0</td><td style=\"text-align: center\">0</td><td style=\"text-align: center\">1</td></tr><tr><th style=\"text-align: center; background-color: white; border-right: 1px solid black; \">1</th><td style=\"text-align: center\">1</td><td style=\"text-align: center\">1</td><td style=\"text-align: center\">0</td><td style=\"text-align: center\">0</td><td style=\"text-align: center\">.</td><td style=\"text-align: center\">...</td><td style=\"text-align: center\">0</td><td style=\"text-align: center\">0</td><td style=\"text-align: center\">0</td><td style=\"text-align: center\">0</td><td style=\"text-align: center\">1</td></tr><tr><th style=\"text-align: center; background-color: white; border-right: 1px solid black; \">2</th><td style=\"text-align: center\">1</td><td style=\"text-align: center\">1</td><td style=\"text-align: center\">0</td><td style=\"text-align: center\">0</td><td style=\"text-align: center\">0</td><td style=\"text-align: center\">...</td><td style=\"text-align: center\">0</td><td style=\"text-align: center\">0</td><td style=\"text-align: center\">0</td><td style=\"text-align: center\">0</td><td style=\"text-align: center\">1</td></tr><tr><th style=\"text-align: center; background-color: white; border-right: 1px solid black; \">...</th><td style=\"text-align: center\" colspan=\"12\">...</td></tr><tr><th style=\"text-align: center; background-color: white; border-right: 1px solid black; \">42192</th><td style=\"text-align: center\">0</td><td style=\"text-align: center\">0</td><td style=\"text-align: center\">0</td><td style=\"text-align: center\">0</td><td style=\"text-align: center\">0</td><td style=\"text-align: center\">...</td><td style=\"text-align: center\">0</td><td style=\"text-align: center\">1</td><td style=\"text-align: center\">1</td><td style=\"text-align: center\">.</td><td style=\"text-align: center\">.</td></tr><tr><th style=\"text-align: center; background-color: white; border-right: 1px solid black; \">42193</th><td style=\"text-align: center\">0</td><td style=\"text-align: center\">0</td><td style=\"text-align: center\">1</td><td style=\"text-align: center\">1</td><td style=\"text-align: center\">1</td><td style=\"text-align: center\">...</td><td style=\"text-align: center\">1</td><td style=\"text-align: center\">0</td><td style=\"text-align: center\">1</td><td style=\"text-align: center\">1</td><td style=\"text-align: center\">1</td></tr><tr><th style=\"text-align: center; background-color: white; border-right: 1px solid black; \">42194</th><td style=\"text-align: center\">0</td><td style=\"text-align: center\">0</td><td style=\"text-align: center\">0</td><td style=\"text-align: center\">0</td><td style=\"text-align: center\">0</td><td style=\"text-align: center\">...</td><td style=\"text-align: center\">0</td><td style=\"text-align: center\">.</td><td style=\"text-align: center\">.</td><td style=\"text-align: center\">0</td><td style=\"text-align: center\">0</td></tr></tbody></table></div>"
      ],
      "text/plain": [
       "<HaplotypeArray shape=(42195, 40174) dtype=int8>\n",
       "1 1 0 0 . ... 0 0 0 0 1\n",
       "1 1 0 0 . ... 0 0 0 0 1\n",
       "1 1 0 0 0 ... 0 0 0 0 1\n",
       "...\n",
       "0 0 0 0 0 ... 0 1 1 . .\n",
       "0 0 1 1 1 ... 1 0 1 1 1\n",
       "0 0 0 0 0 ... 0 . . 0 0"
      ]
     },
     "execution_count": 12,
     "metadata": {},
     "output_type": "execute_result"
    }
   ],
   "source": [
    "haps=genotypes.to_haplotypes() \n",
    "haps"
   ]
  },
  {
   "cell_type": "raw",
   "id": "2277b6f2",
   "metadata": {},
   "source": [
    "Haplotype data is a 2-dimensional numpy array of integers. first dimension corresponds to the variants genotyped, the second dimension corresponds to the haplotypes; 0 is the reference allele, 1 is the first alternate allele, 2 is the second alternate allele, ... and -1 is missing allele call"
   ]
  },
  {
   "cell_type": "code",
   "execution_count": 13,
   "id": "de059267",
   "metadata": {},
   "outputs": [],
   "source": [
    "#print('dtype:', haps.dtype)\n",
    "#print('shape:',haps.shape)\n",
    "#print('No of assays/rows:',haps.n_variants)\n",
    "#print('No of samples/columns:', haps.n_haplotypes)"
   ]
  },
  {
   "cell_type": "code",
   "execution_count": 14,
   "id": "17fe9213",
   "metadata": {},
   "outputs": [],
   "source": [
    "# Allele calls for a single variant at all haplotypes/samples\n",
    "#haps[1]"
   ]
  },
  {
   "cell_type": "code",
   "execution_count": 15,
   "id": "9f0fffa9",
   "metadata": {},
   "outputs": [],
   "source": [
    "#A single haplotype/sample can be obtained by indexing the second dimension\n",
    "#haps[:, 1]"
   ]
  },
  {
   "cell_type": "code",
   "execution_count": 16,
   "id": "2a88e270",
   "metadata": {},
   "outputs": [],
   "source": [
    "# allele call for a single haplotype/sample at a single variant \n",
    "#haps[1, 0]"
   ]
  },
  {
   "cell_type": "code",
   "execution_count": 17,
   "id": "fa86304e",
   "metadata": {},
   "outputs": [],
   "source": [
    "# Reshape a haplotype array as diploid genotypes\n",
    "#haps.to_genotypes(ploidy=2) # i.e reverting back to GenotypeArray"
   ]
  },
  {
   "cell_type": "code",
   "execution_count": 18,
   "id": "e40cbb55",
   "metadata": {},
   "outputs": [
    {
     "data": {
      "text/html": [
       "<div>\n",
       "<style scoped>\n",
       "    .dataframe tbody tr th:only-of-type {\n",
       "        vertical-align: middle;\n",
       "    }\n",
       "\n",
       "    .dataframe tbody tr th {\n",
       "        vertical-align: top;\n",
       "    }\n",
       "\n",
       "    .dataframe thead th {\n",
       "        text-align: right;\n",
       "    }\n",
       "</style>\n",
       "<table border=\"1\" class=\"dataframe\">\n",
       "  <thead>\n",
       "    <tr style=\"text-align: right;\">\n",
       "      <th></th>\n",
       "      <th>0</th>\n",
       "      <th>1</th>\n",
       "      <th>2</th>\n",
       "      <th>3</th>\n",
       "      <th>4</th>\n",
       "      <th>5</th>\n",
       "      <th>6</th>\n",
       "      <th>7</th>\n",
       "      <th>8</th>\n",
       "      <th>9</th>\n",
       "      <th>...</th>\n",
       "      <th>42185</th>\n",
       "      <th>42186</th>\n",
       "      <th>42187</th>\n",
       "      <th>42188</th>\n",
       "      <th>42189</th>\n",
       "      <th>42190</th>\n",
       "      <th>42191</th>\n",
       "      <th>42192</th>\n",
       "      <th>42193</th>\n",
       "      <th>42194</th>\n",
       "    </tr>\n",
       "  </thead>\n",
       "  <tbody>\n",
       "    <tr>\n",
       "      <th>0</th>\n",
       "      <td>1</td>\n",
       "      <td>1</td>\n",
       "      <td>1</td>\n",
       "      <td>0</td>\n",
       "      <td>0</td>\n",
       "      <td>0</td>\n",
       "      <td>1</td>\n",
       "      <td>0</td>\n",
       "      <td>1</td>\n",
       "      <td>1</td>\n",
       "      <td>...</td>\n",
       "      <td>0</td>\n",
       "      <td>0</td>\n",
       "      <td>0</td>\n",
       "      <td>1</td>\n",
       "      <td>1</td>\n",
       "      <td>1</td>\n",
       "      <td>1</td>\n",
       "      <td>0</td>\n",
       "      <td>0</td>\n",
       "      <td>0</td>\n",
       "    </tr>\n",
       "    <tr>\n",
       "      <th>1</th>\n",
       "      <td>1</td>\n",
       "      <td>1</td>\n",
       "      <td>1</td>\n",
       "      <td>0</td>\n",
       "      <td>0</td>\n",
       "      <td>0</td>\n",
       "      <td>1</td>\n",
       "      <td>0</td>\n",
       "      <td>1</td>\n",
       "      <td>1</td>\n",
       "      <td>...</td>\n",
       "      <td>0</td>\n",
       "      <td>0</td>\n",
       "      <td>0</td>\n",
       "      <td>1</td>\n",
       "      <td>1</td>\n",
       "      <td>1</td>\n",
       "      <td>1</td>\n",
       "      <td>0</td>\n",
       "      <td>0</td>\n",
       "      <td>0</td>\n",
       "    </tr>\n",
       "    <tr>\n",
       "      <th>2</th>\n",
       "      <td>0</td>\n",
       "      <td>0</td>\n",
       "      <td>0</td>\n",
       "      <td>0</td>\n",
       "      <td>0</td>\n",
       "      <td>0</td>\n",
       "      <td>0</td>\n",
       "      <td>0</td>\n",
       "      <td>0</td>\n",
       "      <td>0</td>\n",
       "      <td>...</td>\n",
       "      <td>0</td>\n",
       "      <td>0</td>\n",
       "      <td>0</td>\n",
       "      <td>1</td>\n",
       "      <td>0</td>\n",
       "      <td>1</td>\n",
       "      <td>1</td>\n",
       "      <td>0</td>\n",
       "      <td>1</td>\n",
       "      <td>0</td>\n",
       "    </tr>\n",
       "    <tr>\n",
       "      <th>3</th>\n",
       "      <td>0</td>\n",
       "      <td>0</td>\n",
       "      <td>0</td>\n",
       "      <td>0</td>\n",
       "      <td>0</td>\n",
       "      <td>0</td>\n",
       "      <td>0</td>\n",
       "      <td>0</td>\n",
       "      <td>0</td>\n",
       "      <td>0</td>\n",
       "      <td>...</td>\n",
       "      <td>0</td>\n",
       "      <td>0</td>\n",
       "      <td>0</td>\n",
       "      <td>1</td>\n",
       "      <td>0</td>\n",
       "      <td>1</td>\n",
       "      <td>1</td>\n",
       "      <td>0</td>\n",
       "      <td>1</td>\n",
       "      <td>0</td>\n",
       "    </tr>\n",
       "    <tr>\n",
       "      <th>4</th>\n",
       "      <td>-1</td>\n",
       "      <td>-1</td>\n",
       "      <td>0</td>\n",
       "      <td>0</td>\n",
       "      <td>0</td>\n",
       "      <td>0</td>\n",
       "      <td>0</td>\n",
       "      <td>0</td>\n",
       "      <td>0</td>\n",
       "      <td>0</td>\n",
       "      <td>...</td>\n",
       "      <td>0</td>\n",
       "      <td>0</td>\n",
       "      <td>0</td>\n",
       "      <td>1</td>\n",
       "      <td>0</td>\n",
       "      <td>1</td>\n",
       "      <td>1</td>\n",
       "      <td>0</td>\n",
       "      <td>1</td>\n",
       "      <td>0</td>\n",
       "    </tr>\n",
       "  </tbody>\n",
       "</table>\n",
       "<p>5 rows × 42195 columns</p>\n",
       "</div>"
      ],
      "text/plain": [
       "   0      1      2      3      4      5      6      7      8      9      ...  \\\n",
       "0      1      1      1      0      0      0      1      0      1      1  ...   \n",
       "1      1      1      1      0      0      0      1      0      1      1  ...   \n",
       "2      0      0      0      0      0      0      0      0      0      0  ...   \n",
       "3      0      0      0      0      0      0      0      0      0      0  ...   \n",
       "4     -1     -1      0      0      0      0      0      0      0      0  ...   \n",
       "\n",
       "   42185  42186  42187  42188  42189  42190  42191  42192  42193  42194  \n",
       "0      0      0      0      1      1      1      1      0      0      0  \n",
       "1      0      0      0      1      1      1      1      0      0      0  \n",
       "2      0      0      0      1      0      1      1      0      1      0  \n",
       "3      0      0      0      1      0      1      1      0      1      0  \n",
       "4      0      0      0      1      0      1      1      0      1      0  \n",
       "\n",
       "[5 rows x 42195 columns]"
      ]
     },
     "execution_count": 18,
     "metadata": {},
     "output_type": "execute_result"
    }
   ],
   "source": [
    "# create dataframe of haplotypes by transposing the array (with out transposing, memory is too much and getting error)\n",
    "haps_df=pd.DataFrame(haps.T)\n",
    "haps_df.head()  # so markers turned as columns; GE's as rows"
   ]
  },
  {
   "cell_type": "code",
   "execution_count": 19,
   "id": "e25b1b55",
   "metadata": {},
   "outputs": [
    {
     "data": {
      "text/plain": [
       "(40174, 42195)"
      ]
     },
     "execution_count": 19,
     "metadata": {},
     "output_type": "execute_result"
    }
   ],
   "source": [
    "haps_df.shape"
   ]
  },
  {
   "cell_type": "code",
   "execution_count": null,
   "id": "82ee1a14",
   "metadata": {},
   "outputs": [],
   "source": [
    "haps_df.to_csv('input_data.csv.gz')"
   ]
  },
  {
   "cell_type": "code",
   "execution_count": null,
   "id": "5cf82951",
   "metadata": {},
   "outputs": [],
   "source": [
    "df_iterator = pd.read_csv('input_data.csv.gz', chunksize=1000, compression='gzip')\n",
    "\n",
    "for i, df_chunk in enumerate(df_iterator):\n",
    "\n",
    "    df_chunk.groupby(np.arange(len(df_chunk))//2).sum()\n",
    "    #do_something(df_chunk)\n",
    "    \n",
    "    # Set writing mode to append after first chunk\n",
    "    mode = 'w' if i == 0 else 'a'\n",
    "    \n",
    "    # Add header if it is the first chunk\n",
    "    header = i == 0\n",
    "\n",
    "    df_chunk.to_csv(\n",
    "        \"dst_data.csv.gz\",\n",
    "        index=False,  # Skip index column\n",
    "        header=header, \n",
    "        mode=mode,\n",
    "        compression='gzip')"
   ]
  },
  {
   "cell_type": "code",
   "execution_count": null,
   "id": "2cdf7643",
   "metadata": {},
   "outputs": [],
   "source": [
    "dataset=pd.read_csv(\"dst_data.csv.gz\")\n",
    "dataset.head()"
   ]
  },
  {
   "cell_type": "code",
   "execution_count": null,
   "id": "c12e0051",
   "metadata": {},
   "outputs": [],
   "source": [
    "## because of memory issue, I am reading chunks of 1000 rows from haps_df a"
   ]
  },
  {
   "cell_type": "code",
   "execution_count": null,
   "id": "38b221c6",
   "metadata": {},
   "outputs": [],
   "source": [
    "from more_itertools import sliced\n",
    "CHUNK_SIZE = 1000\n",
    "\n",
    "index_slices = sliced(range(len(haps_df)), CHUNK_SIZE)\n",
    "\n",
    "#data=[]\n",
    "for index_slice in index_slices:\n",
    "    chunk = haps_df.iloc[index_slice] # your dataframe chunk ready for use\n",
    "    result = chunk.groupby(np.arange(len(chunk))//2).sum() \n",
    "    #data.append(result)\n",
    "    result.to_csv('modified.csv')\n",
    "    \n"
   ]
  },
  {
   "cell_type": "code",
   "execution_count": null,
   "id": "fc0999e9",
   "metadata": {},
   "outputs": [],
   "source": [
    "chunked_df = pd.DataFrame(data)\n",
    "chunked_df.head()"
   ]
  },
  {
   "cell_type": "code",
   "execution_count": null,
   "id": "6855f945",
   "metadata": {},
   "outputs": [],
   "source": [
    "haps_df1=haps_df.head()\n",
    "haps_df1"
   ]
  },
  {
   "cell_type": "code",
   "execution_count": null,
   "id": "235d4584",
   "metadata": {},
   "outputs": [],
   "source": []
  },
  {
   "cell_type": "code",
   "execution_count": null,
   "id": "04d19e03",
   "metadata": {},
   "outputs": [],
   "source": []
  },
  {
   "cell_type": "code",
   "execution_count": null,
   "id": "bfb1fcdb",
   "metadata": {},
   "outputs": [],
   "source": []
  },
  {
   "cell_type": "code",
   "execution_count": null,
   "id": "9105d69d",
   "metadata": {},
   "outputs": [],
   "source": []
  },
  {
   "cell_type": "code",
   "execution_count": null,
   "id": "43e8d982",
   "metadata": {},
   "outputs": [],
   "source": []
  },
  {
   "cell_type": "code",
   "execution_count": null,
   "id": "63013b19",
   "metadata": {},
   "outputs": [],
   "source": [
    "haps_df1.shape"
   ]
  },
  {
   "cell_type": "code",
   "execution_count": null,
   "id": "0afe306d",
   "metadata": {},
   "outputs": [],
   "source": [
    "result = haps_df1.groupby(np.arange(len(haps_df1))//2).sum()\n",
    "result"
   ]
  },
  {
   "cell_type": "code",
   "execution_count": null,
   "id": "eddc0707",
   "metadata": {},
   "outputs": [],
   "source": []
  },
  {
   "cell_type": "code",
   "execution_count": null,
   "id": "2eb4062a",
   "metadata": {},
   "outputs": [],
   "source": [
    "combined_df=pd.concat([df1, samples_df])"
   ]
  },
  {
   "cell_type": "code",
   "execution_count": null,
   "id": "d43b39b6",
   "metadata": {},
   "outputs": [],
   "source": []
  },
  {
   "cell_type": "code",
   "execution_count": null,
   "id": "8eaf2353",
   "metadata": {},
   "outputs": [],
   "source": []
  },
  {
   "cell_type": "code",
   "execution_count": null,
   "id": "c470865e",
   "metadata": {},
   "outputs": [],
   "source": []
  },
  {
   "cell_type": "markdown",
   "id": "68e855d0",
   "metadata": {},
   "source": [
    "# vcf_to_hdf5()\n",
    "\n",
    "For large datasets, vcf to hdf5 is good; HDF5 file stored on disk."
   ]
  },
  {
   "cell_type": "code",
   "execution_count": null,
   "id": "4547c35d",
   "metadata": {},
   "outputs": [],
   "source": [
    "#vcf_path='soysnp50k_wm82.a2_41317.vcf.gz'"
   ]
  },
  {
   "cell_type": "code",
   "execution_count": null,
   "id": "c4226754",
   "metadata": {},
   "outputs": [],
   "source": [
    "allel.vcf_to_hdf5('soysnp50k_wm82.a2_41317.vcf.gz', 'soysnp50k_wm82.a2.h5', fields='*', overwrite=True)"
   ]
  },
  {
   "cell_type": "code",
   "execution_count": null,
   "id": "cbc8eb17",
   "metadata": {},
   "outputs": [],
   "source": [
    "df1.shape"
   ]
  },
  {
   "cell_type": "code",
   "execution_count": null,
   "id": "41341faf",
   "metadata": {},
   "outputs": [],
   "source": [
    "callset_fn = 'soysnp50k_wm82.a2.h5'\n",
    "callset = h5py.File(callset_fn, mode='r')\n",
    "callset"
   ]
  },
  {
   "cell_type": "code",
   "execution_count": null,
   "id": "5fd3d7d5",
   "metadata": {},
   "outputs": [],
   "source": [
    "callset.keys()"
   ]
  },
  {
   "cell_type": "code",
   "execution_count": null,
   "id": "3f23fc04",
   "metadata": {},
   "outputs": [],
   "source": [
    "chrom = callset['variants/CHROM']\n",
    "chrom[1:5]"
   ]
  },
  {
   "cell_type": "code",
   "execution_count": null,
   "id": "1a5c0d67",
   "metadata": {},
   "outputs": [],
   "source": [
    "pos = callset['variants/POS']\n",
    "pos"
   ]
  },
  {
   "cell_type": "code",
   "execution_count": null,
   "id": "e411f624",
   "metadata": {},
   "outputs": [],
   "source": [
    "# load all items into NumPy array\n",
    "pos[1:3]"
   ]
  },
  {
   "cell_type": "code",
   "execution_count": null,
   "id": "e3a7e5ed",
   "metadata": {},
   "outputs": [],
   "source": [
    "# load genotype calls into memory for second to fourth variants, all samples\n",
    "gt = callset['calldata/GT']\n",
    "gt\n"
   ]
  },
  {
   "cell_type": "code",
   "execution_count": null,
   "id": "9dc06216",
   "metadata": {},
   "outputs": [],
   "source": [
    "genotypes=allel.GenotypeArray(gt)\n",
    "genotypes"
   ]
  },
  {
   "cell_type": "code",
   "execution_count": null,
   "id": "fbd6baca",
   "metadata": {},
   "outputs": [],
   "source": [
    "geno_array=genotypes.reshape(genotypes.shape[0], genotypes.shape[1], genotypes.shape[2])\n",
    "geno_array.shape"
   ]
  },
  {
   "cell_type": "code",
   "execution_count": null,
   "id": "4d1e92cb",
   "metadata": {},
   "outputs": [],
   "source": [
    "import pandas as pd\n",
    "df = pd.DataFrame(geno_array)\n",
    "#df.to_csv('50k_geno_calls.csv')\n",
    "df.head()"
   ]
  },
  {
   "cell_type": "markdown",
   "id": "99d42d0b",
   "metadata": {},
   "source": [
    "# pick a chromosome to work"
   ]
  },
  {
   "cell_type": "code",
   "execution_count": null,
   "id": "ff5745eb",
   "metadata": {},
   "outputs": [],
   "source": [
    "chrom = 'scaffold_759'"
   ]
  },
  {
   "cell_type": "markdown",
   "id": "64de2cef",
   "metadata": {},
   "source": [
    "# Visualize variant density\n",
    "\n",
    "Plot shows how many SNPs are there and how they are distributed along the chromosome"
   ]
  },
  {
   "cell_type": "raw",
   "id": "9395d59f",
   "metadata": {},
   "source": [
    "# data on SNP positions and various other attributes of the SNPs are stored in the HDF5 fileEach of these can be treated as a column in a table"
   ]
  },
  {
   "cell_type": "markdown",
   "id": "cd6f8b86",
   "metadata": {},
   "source": [
    "# Filtering\n",
    "\n",
    "Drop any polymorphic SNP with rate of missing & het alleles >0.1 among the 19,648 soybean and wild soybean accessions. The het allele calls in the remaining loci were set as missing in the subsequent analysis\n"
   ]
  },
  {
   "cell_type": "markdown",
   "id": "7d763ce4",
   "metadata": {},
   "source": [
    "# Similarity analysis\n",
    "Genetic similarity between pairs of genotypes among the 18,480 cultivated and among the 1168 wild accessions was calculated as the ratio of\n",
    "the number of identical SNP allele calls and the total number of SNPs for\n",
    "which allele calls were made for the pair"
   ]
  },
  {
   "cell_type": "markdown",
   "id": "e4b1d0c0",
   "metadata": {},
   "source": [
    "# Cluster analysis\n",
    "Pair-wise distance among the accessions of 806 wild and 5396 landrace\n",
    "soybeans was obtained based on the allelic dissimilarity of the 42,509\n",
    "SNPs; the neighbor-joining tree was constructed"
   ]
  },
  {
   "cell_type": "markdown",
   "id": "ab6a4df4",
   "metadata": {},
   "source": [
    "# LD analysis\n",
    "LD was analyzed within the wild, landrace, and N. Am. cultivar\n",
    "populations with 806, 5396, and 562 accessions, respectively. Only\n",
    "the SNPs with minor allele frequency $5% were included for LD calculation and construction of haplotype blocks. Calculation of pairwise\n",
    "LD (r2\n",
    ") among SNPs and identification of haplotype blocks was based\n",
    "upon SNPs within 1-Mb windows using the software PLINK (Purcell\n",
    "et al. 2007)."
   ]
  },
  {
   "cell_type": "code",
   "execution_count": null,
   "id": "d07cb3d0",
   "metadata": {},
   "outputs": [],
   "source": [
    "# Dendrogam of wild and landrace genotypes from different countries."
   ]
  },
  {
   "cell_type": "code",
   "execution_count": null,
   "id": "4f38fb43",
   "metadata": {},
   "outputs": [],
   "source": []
  }
 ],
 "metadata": {
  "kernelspec": {
   "display_name": "Python 3 (ipykernel)",
   "language": "python",
   "name": "python3"
  },
  "language_info": {
   "codemirror_mode": {
    "name": "ipython",
    "version": 3
   },
   "file_extension": ".py",
   "mimetype": "text/x-python",
   "name": "python",
   "nbconvert_exporter": "python",
   "pygments_lexer": "ipython3",
   "version": "3.7.11"
  }
 },
 "nbformat": 4,
 "nbformat_minor": 5
}
