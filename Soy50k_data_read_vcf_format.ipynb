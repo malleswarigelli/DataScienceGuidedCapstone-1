{
 "cells": [
  {
   "cell_type": "markdown",
   "id": "777c5710",
   "metadata": {},
   "source": [
    "# Source: Soybase \n",
    "Data for 20,087 G. max and G. soja accessions genotyped with 42,509 SNPs (Wm82.a2)"
   ]
  },
  {
   "cell_type": "markdown",
   "id": "d7a207c2",
   "metadata": {},
   "source": [
    "scikit-allel is a Python package intended to enable exploratory analysis of large-scale genetic variation"
   ]
  },
  {
   "cell_type": "markdown",
   "id": "87e9d26a",
   "metadata": {},
   "source": [
    "# Import the libraries"
   ]
  },
  {
   "cell_type": "code",
   "execution_count": 1,
   "id": "e408d4f1",
   "metadata": {},
   "outputs": [
    {
     "name": "stdout",
     "output_type": "stream",
     "text": [
      "scikit-allel 1.3.5\n"
     ]
    }
   ],
   "source": [
    "import numpy as np\n",
    "import scipy\n",
    "import pandas as pd\n",
    "import matplotlib as mpl\n",
    "import matplotlib.pyplot as plt\n",
    "%matplotlib inline\n",
    "import seaborn as sns\n",
    "sns.set_style('white')\n",
    "sns.set_style('ticks')\n",
    "sns.set_context('notebook')\n",
    "import h5py  # hdf5 file \n",
    "import allel;  # # import scikit-allel\n",
    "print('scikit-allel', allel.__version__) # check which version is installed"
   ]
  },
  {
   "cell_type": "markdown",
   "id": "14cadd89",
   "metadata": {},
   "source": [
    "# Read vcf file using scikit-allel read_vcf()"
   ]
  },
  {
   "cell_type": "code",
   "execution_count": 2,
   "id": "4dece5fc",
   "metadata": {},
   "outputs": [
    {
     "name": "stdout",
     "output_type": "stream",
     "text": [
      "1.3.5\n"
     ]
    }
   ],
   "source": [
    "# import scikit-allel\n",
    "import allel\n",
    "# check which version is installed\n",
    "print(allel.__version__)"
   ]
  },
  {
   "cell_type": "code",
   "execution_count": 3,
   "id": "e231549b",
   "metadata": {},
   "outputs": [],
   "source": [
    "callset = allel.read_vcf('soysnp50k_wm82.a2_41317.vcf.gz')"
   ]
  },
  {
   "cell_type": "code",
   "execution_count": 4,
   "id": "bedf41af",
   "metadata": {},
   "outputs": [
    {
     "data": {
      "text/plain": [
       "['calldata/GT',\n",
       " 'samples',\n",
       " 'variants/ALT',\n",
       " 'variants/CHROM',\n",
       " 'variants/FILTER_PASS',\n",
       " 'variants/ID',\n",
       " 'variants/POS',\n",
       " 'variants/QUAL',\n",
       " 'variants/REF']"
      ]
     },
     "execution_count": 4,
     "metadata": {},
     "output_type": "execute_result"
    }
   ],
   "source": [
    "sorted(callset.keys())"
   ]
  },
  {
   "cell_type": "code",
   "execution_count": 7,
   "id": "9d504527",
   "metadata": {},
   "outputs": [],
   "source": [
    "# Access callset\n",
    "\n",
    "#for key, value in callset.items():\n",
    "#    print(key, value)"
   ]
  },
  {
   "cell_type": "markdown",
   "id": "d34a41fa",
   "metadata": {},
   "source": [
    "Arrays with keys beginning ‘calldata/’ come from the sample fields; keys beginning 'variants/' are coming from SNP fileds"
   ]
  },
  {
   "cell_type": "markdown",
   "id": "4463111d",
   "metadata": {},
   "source": [
    "# What's the datatype of each key (1d or 2d or 3d array)?"
   ]
  },
  {
   "cell_type": "code",
   "execution_count": 8,
   "id": "4bb643e5",
   "metadata": {},
   "outputs": [
    {
     "name": "stdout",
     "output_type": "stream",
     "text": [
      "Genotypes: (42195, 20087, 2)\n",
      "samples: (20087,)\n",
      "Alt_allele: (42195, 3)\n",
      "Chr #: (42195,)\n",
      "Filter: (42195,)\n",
      "SNP: (42195,)\n",
      "PhyPos: (42195,)\n",
      "Quality: Qual: (42195,)\n",
      "Ref_allele: (42195,)\n"
     ]
    }
   ],
   "source": [
    "print('Genotypes:',callset['calldata/GT'].shape)\n",
    "print('samples:',callset['samples'].shape)\n",
    "print('Alt_allele:',callset['variants/ALT'].shape)\n",
    "print('Chr #:',callset['variants/CHROM'].shape)\n",
    "print('Filter:',callset['variants/FILTER_PASS'].shape)\n",
    "print('SNP:',callset['variants/ID'].shape)\n",
    "print('PhyPos:',callset['variants/POS'].shape)\n",
    "print('Quality:','Qual:',callset['variants/QUAL'].shape)\n",
    "print('Ref_allele:',callset['variants/REF'].shape)"
   ]
  },
  {
   "cell_type": "markdown",
   "id": "94cb2414",
   "metadata": {},
   "source": [
    "# What values each key contains?"
   ]
  },
  {
   "cell_type": "code",
   "execution_count": 9,
   "id": "4d4c1919",
   "metadata": {},
   "outputs": [
    {
     "data": {
      "text/plain": [
       "array([[[ 1,  1],\n",
       "        [ 0,  0],\n",
       "        [-1, -1],\n",
       "        ...,\n",
       "        [ 0,  0],\n",
       "        [ 0,  0],\n",
       "        [ 0,  1]]], dtype=int8)"
      ]
     },
     "execution_count": 9,
     "metadata": {},
     "output_type": "execute_result"
    }
   ],
   "source": [
    "geno=callset['calldata/GT'] \n",
    "geno[:1]"
   ]
  },
  {
   "cell_type": "code",
   "execution_count": 10,
   "id": "c8d76195",
   "metadata": {},
   "outputs": [
    {
     "data": {
      "text/plain": [
       "array(['PI86046', 'PI90208', 'PI219698', ..., 'PI587906', 'PI587946',\n",
       "       'PI603516'], dtype=object)"
      ]
     },
     "execution_count": 10,
     "metadata": {},
     "output_type": "execute_result"
    }
   ],
   "source": [
    "# ‘samples’ array contains samples (extracted from the header line in the VCF file)\n",
    "samples=callset['samples']\n",
    "samples"
   ]
  },
  {
   "cell_type": "code",
   "execution_count": 11,
   "id": "9b1b2eb1",
   "metadata": {},
   "outputs": [
    {
     "data": {
      "text/plain": [
       "array([['G', '', ''],\n",
       "       ['T', '', ''],\n",
       "       ['G', '', ''],\n",
       "       ...,\n",
       "       ['T', '', ''],\n",
       "       ['T', '', ''],\n",
       "       ['A', '', '']], dtype=object)"
      ]
     },
     "execution_count": 11,
     "metadata": {},
     "output_type": "execute_result"
    }
   ],
   "source": [
    "Alt_allele=callset['variants/ALT']\n",
    "Alt_allele"
   ]
  },
  {
   "cell_type": "code",
   "execution_count": 12,
   "id": "b06d5139",
   "metadata": {},
   "outputs": [
    {
     "data": {
      "text/plain": [
       "array(['Chr01', 'Chr01', 'Chr01', ..., 'scaffold_759', 'scaffold_843',\n",
       "       'scaffold_91'], dtype=object)"
      ]
     },
     "execution_count": 12,
     "metadata": {},
     "output_type": "execute_result"
    }
   ],
   "source": [
    "Chr_num=callset['variants/CHROM']\n",
    "Chr_num"
   ]
  },
  {
   "cell_type": "code",
   "execution_count": 13,
   "id": "c83d842c",
   "metadata": {},
   "outputs": [
    {
     "data": {
      "text/plain": [
       "array([False, False, False, ..., False, False, False])"
      ]
     },
     "execution_count": 13,
     "metadata": {},
     "output_type": "execute_result"
    }
   ],
   "source": [
    "Filter=callset['variants/FILTER_PASS']\n",
    "Filter"
   ]
  },
  {
   "cell_type": "code",
   "execution_count": 14,
   "id": "d4e2f34a",
   "metadata": {},
   "outputs": [
    {
     "data": {
      "text/plain": [
       "array(['ss715578788', 'ss715578818', 'ss715578923', ..., 'ss715623959',\n",
       "       'ss715584606', 'ss715633065'], dtype=object)"
      ]
     },
     "execution_count": 14,
     "metadata": {},
     "output_type": "execute_result"
    }
   ],
   "source": [
    "SNP=callset['variants/ID']\n",
    "SNP"
   ]
  },
  {
   "cell_type": "code",
   "execution_count": 15,
   "id": "800bb24f",
   "metadata": {},
   "outputs": [
    {
     "data": {
      "text/plain": [
       "array([24952, 26003, 29671, ...,  4974,  3015, 24874])"
      ]
     },
     "execution_count": 15,
     "metadata": {},
     "output_type": "execute_result"
    }
   ],
   "source": [
    "Phy_pos=callset['variants/POS']\n",
    "Phy_pos"
   ]
  },
  {
   "cell_type": "code",
   "execution_count": 16,
   "id": "2116ca9b",
   "metadata": {},
   "outputs": [
    {
     "data": {
      "text/plain": [
       "array([nan, nan, nan, ..., nan, nan, nan], dtype=float32)"
      ]
     },
     "execution_count": 16,
     "metadata": {},
     "output_type": "execute_result"
    }
   ],
   "source": [
    "Quality=callset['variants/QUAL']\n",
    "Quality"
   ]
  },
  {
   "cell_type": "code",
   "execution_count": 17,
   "id": "744c606b",
   "metadata": {},
   "outputs": [
    {
     "data": {
      "text/plain": [
       "array(['A', 'C', 'A', ..., 'C', 'C', 'G'], dtype=object)"
      ]
     },
     "execution_count": 17,
     "metadata": {},
     "output_type": "execute_result"
    }
   ],
   "source": [
    "Ref_allele=callset['variants/REF']\n",
    "Ref_allele"
   ]
  },
  {
   "cell_type": "markdown",
   "id": "7783b50c",
   "metadata": {},
   "source": [
    "# vcf_to_dataframe\n",
    "\n",
    "The vcf_to_dataframe() function extracts all data except samples and genotyping calls from a VCF and loads into a df."
   ]
  },
  {
   "cell_type": "code",
   "execution_count": 97,
   "id": "a2acd12e",
   "metadata": {},
   "outputs": [
    {
     "data": {
      "text/html": [
       "<div>\n",
       "<style scoped>\n",
       "    .dataframe tbody tr th:only-of-type {\n",
       "        vertical-align: middle;\n",
       "    }\n",
       "\n",
       "    .dataframe tbody tr th {\n",
       "        vertical-align: top;\n",
       "    }\n",
       "\n",
       "    .dataframe thead th {\n",
       "        text-align: right;\n",
       "    }\n",
       "</style>\n",
       "<table border=\"1\" class=\"dataframe\">\n",
       "  <thead>\n",
       "    <tr style=\"text-align: right;\">\n",
       "      <th></th>\n",
       "      <th>CHROM</th>\n",
       "      <th>POS</th>\n",
       "      <th>ID</th>\n",
       "      <th>REF</th>\n",
       "      <th>ALT_1</th>\n",
       "      <th>ALT_2</th>\n",
       "      <th>ALT_3</th>\n",
       "      <th>QUAL</th>\n",
       "      <th>FILTER_PASS</th>\n",
       "    </tr>\n",
       "  </thead>\n",
       "  <tbody>\n",
       "    <tr>\n",
       "      <th>0</th>\n",
       "      <td>Chr01</td>\n",
       "      <td>24952</td>\n",
       "      <td>ss715578788</td>\n",
       "      <td>A</td>\n",
       "      <td>G</td>\n",
       "      <td>NaN</td>\n",
       "      <td>NaN</td>\n",
       "      <td>NaN</td>\n",
       "      <td>False</td>\n",
       "    </tr>\n",
       "    <tr>\n",
       "      <th>1</th>\n",
       "      <td>Chr01</td>\n",
       "      <td>26003</td>\n",
       "      <td>ss715578818</td>\n",
       "      <td>C</td>\n",
       "      <td>T</td>\n",
       "      <td>NaN</td>\n",
       "      <td>NaN</td>\n",
       "      <td>NaN</td>\n",
       "      <td>False</td>\n",
       "    </tr>\n",
       "    <tr>\n",
       "      <th>2</th>\n",
       "      <td>Chr01</td>\n",
       "      <td>29671</td>\n",
       "      <td>ss715578923</td>\n",
       "      <td>A</td>\n",
       "      <td>G</td>\n",
       "      <td>NaN</td>\n",
       "      <td>NaN</td>\n",
       "      <td>NaN</td>\n",
       "      <td>False</td>\n",
       "    </tr>\n",
       "    <tr>\n",
       "      <th>3</th>\n",
       "      <td>Chr01</td>\n",
       "      <td>30712</td>\n",
       "      <td>ss715578960</td>\n",
       "      <td>G</td>\n",
       "      <td>A</td>\n",
       "      <td>NaN</td>\n",
       "      <td>NaN</td>\n",
       "      <td>NaN</td>\n",
       "      <td>False</td>\n",
       "    </tr>\n",
       "    <tr>\n",
       "      <th>4</th>\n",
       "      <td>Chr01</td>\n",
       "      <td>37018</td>\n",
       "      <td>ss715579193</td>\n",
       "      <td>C</td>\n",
       "      <td>T</td>\n",
       "      <td>NaN</td>\n",
       "      <td>NaN</td>\n",
       "      <td>NaN</td>\n",
       "      <td>False</td>\n",
       "    </tr>\n",
       "  </tbody>\n",
       "</table>\n",
       "</div>"
      ],
      "text/plain": [
       "   CHROM    POS           ID REF ALT_1  ALT_2  ALT_3  QUAL  FILTER_PASS\n",
       "0  Chr01  24952  ss715578788   A     G    NaN    NaN   NaN        False\n",
       "1  Chr01  26003  ss715578818   C     T    NaN    NaN   NaN        False\n",
       "2  Chr01  29671  ss715578923   A     G    NaN    NaN   NaN        False\n",
       "3  Chr01  30712  ss715578960   G     A    NaN    NaN   NaN        False\n",
       "4  Chr01  37018  ss715579193   C     T    NaN    NaN   NaN        False"
      ]
     },
     "execution_count": 97,
     "metadata": {},
     "output_type": "execute_result"
    }
   ],
   "source": [
    "df1 = allel.vcf_to_dataframe('soysnp50k_wm82.a2_41317.vcf.gz')\n",
    "df1.head()"
   ]
  },
  {
   "cell_type": "code",
   "execution_count": 98,
   "id": "e7b60338",
   "metadata": {},
   "outputs": [
    {
     "data": {
      "text/plain": [
       "Index(['CHROM', 'POS', 'ID', 'REF', 'ALT_1', 'ALT_2', 'ALT_3', 'QUAL',\n",
       "       'FILTER_PASS'],\n",
       "      dtype='object')"
      ]
     },
     "execution_count": 98,
     "metadata": {},
     "output_type": "execute_result"
    }
   ],
   "source": [
    "df1.columns"
   ]
  },
  {
   "cell_type": "markdown",
   "id": "aac5a511",
   "metadata": {},
   "source": [
    "# Required columns from df1"
   ]
  },
  {
   "cell_type": "code",
   "execution_count": 106,
   "id": "5126c77e",
   "metadata": {},
   "outputs": [
    {
     "data": {
      "text/html": [
       "<div>\n",
       "<style scoped>\n",
       "    .dataframe tbody tr th:only-of-type {\n",
       "        vertical-align: middle;\n",
       "    }\n",
       "\n",
       "    .dataframe tbody tr th {\n",
       "        vertical-align: top;\n",
       "    }\n",
       "\n",
       "    .dataframe thead th {\n",
       "        text-align: right;\n",
       "    }\n",
       "</style>\n",
       "<table border=\"1\" class=\"dataframe\">\n",
       "  <thead>\n",
       "    <tr style=\"text-align: right;\">\n",
       "      <th></th>\n",
       "      <th>ID</th>\n",
       "      <th>CHROM</th>\n",
       "      <th>POS</th>\n",
       "      <th>REF</th>\n",
       "      <th>ALT_1</th>\n",
       "    </tr>\n",
       "  </thead>\n",
       "  <tbody>\n",
       "    <tr>\n",
       "      <th>0</th>\n",
       "      <td>ss715578788</td>\n",
       "      <td>Chr01</td>\n",
       "      <td>24952</td>\n",
       "      <td>A</td>\n",
       "      <td>G</td>\n",
       "    </tr>\n",
       "    <tr>\n",
       "      <th>1</th>\n",
       "      <td>ss715578818</td>\n",
       "      <td>Chr01</td>\n",
       "      <td>26003</td>\n",
       "      <td>C</td>\n",
       "      <td>T</td>\n",
       "    </tr>\n",
       "    <tr>\n",
       "      <th>2</th>\n",
       "      <td>ss715578923</td>\n",
       "      <td>Chr01</td>\n",
       "      <td>29671</td>\n",
       "      <td>A</td>\n",
       "      <td>G</td>\n",
       "    </tr>\n",
       "    <tr>\n",
       "      <th>3</th>\n",
       "      <td>ss715578960</td>\n",
       "      <td>Chr01</td>\n",
       "      <td>30712</td>\n",
       "      <td>G</td>\n",
       "      <td>A</td>\n",
       "    </tr>\n",
       "    <tr>\n",
       "      <th>4</th>\n",
       "      <td>ss715579193</td>\n",
       "      <td>Chr01</td>\n",
       "      <td>37018</td>\n",
       "      <td>C</td>\n",
       "      <td>T</td>\n",
       "    </tr>\n",
       "  </tbody>\n",
       "</table>\n",
       "</div>"
      ],
      "text/plain": [
       "            ID  CHROM    POS REF ALT_1\n",
       "0  ss715578788  Chr01  24952   A     G\n",
       "1  ss715578818  Chr01  26003   C     T\n",
       "2  ss715578923  Chr01  29671   A     G\n",
       "3  ss715578960  Chr01  30712   G     A\n",
       "4  ss715579193  Chr01  37018   C     T"
      ]
     },
     "execution_count": 106,
     "metadata": {},
     "output_type": "execute_result"
    }
   ],
   "source": [
    "df1_data=df1[['ID','CHROM', 'POS', 'REF', 'ALT_1']]\n",
    "df1_data.head()"
   ]
  },
  {
   "cell_type": "markdown",
   "id": "a9fc2899",
   "metadata": {},
   "source": [
    "## Data Wrangling or modification\n",
    "\n",
    "Since data type of each key values are different (1d, 2d, 3d arrays); converting all into 2D arrays for easy concatenation"
   ]
  },
  {
   "cell_type": "markdown",
   "id": "9997731e",
   "metadata": {},
   "source": [
    "### Convert Genotypes 3D to 2D array\n",
    "\n",
    "scikit-allel has GenotypeArray() class, which adds some convenient functionality to an array of genotype calls. "
   ]
  },
  {
   "cell_type": "code",
   "execution_count": 18,
   "id": "50d35cfb",
   "metadata": {},
   "outputs": [
    {
     "data": {
      "text/html": [
       "<div class=\"allel allel-DisplayAs2D\"><span>&lt;GenotypeArray shape=(42195, 20087, 2) dtype=int8&gt;</span><table><thead><tr><th></th><th style=\"text-align: center\">0</th><th style=\"text-align: center\">1</th><th style=\"text-align: center\">2</th><th style=\"text-align: center\">3</th><th style=\"text-align: center\">4</th><th style=\"text-align: center\">...</th><th style=\"text-align: center\">20082</th><th style=\"text-align: center\">20083</th><th style=\"text-align: center\">20084</th><th style=\"text-align: center\">20085</th><th style=\"text-align: center\">20086</th></tr></thead><tbody><tr><th style=\"text-align: center; background-color: white; border-right: 1px solid black; \">0</th><td style=\"text-align: center\">1/1</td><td style=\"text-align: center\">0/0</td><td style=\"text-align: center\">./.</td><td style=\"text-align: center\">0/0</td><td style=\"text-align: center\">0/0</td><td style=\"text-align: center\">...</td><td style=\"text-align: center\">0/0</td><td style=\"text-align: center\">0/0</td><td style=\"text-align: center\">0/0</td><td style=\"text-align: center\">0/0</td><td style=\"text-align: center\">0/1</td></tr><tr><th style=\"text-align: center; background-color: white; border-right: 1px solid black; \">1</th><td style=\"text-align: center\">1/1</td><td style=\"text-align: center\">0/0</td><td style=\"text-align: center\">./.</td><td style=\"text-align: center\">0/0</td><td style=\"text-align: center\">0/0</td><td style=\"text-align: center\">...</td><td style=\"text-align: center\">0/0</td><td style=\"text-align: center\">0/0</td><td style=\"text-align: center\">0/0</td><td style=\"text-align: center\">0/0</td><td style=\"text-align: center\">0/1</td></tr><tr><th style=\"text-align: center; background-color: white; border-right: 1px solid black; \">2</th><td style=\"text-align: center\">1/1</td><td style=\"text-align: center\">0/0</td><td style=\"text-align: center\">0/1</td><td style=\"text-align: center\">0/0</td><td style=\"text-align: center\">0/0</td><td style=\"text-align: center\">...</td><td style=\"text-align: center\">0/0</td><td style=\"text-align: center\">0/0</td><td style=\"text-align: center\">0/0</td><td style=\"text-align: center\">0/0</td><td style=\"text-align: center\">0/1</td></tr><tr><th style=\"text-align: center; background-color: white; border-right: 1px solid black; \">...</th><td style=\"text-align: center\" colspan=\"12\">...</td></tr><tr><th style=\"text-align: center; background-color: white; border-right: 1px solid black; \">42192</th><td style=\"text-align: center\">0/0</td><td style=\"text-align: center\">0/0</td><td style=\"text-align: center\">0/0</td><td style=\"text-align: center\">0/0</td><td style=\"text-align: center\">1/1</td><td style=\"text-align: center\">...</td><td style=\"text-align: center\">0/0</td><td style=\"text-align: center\">0/0</td><td style=\"text-align: center\">0/0</td><td style=\"text-align: center\">1/1</td><td style=\"text-align: center\">./.</td></tr><tr><th style=\"text-align: center; background-color: white; border-right: 1px solid black; \">42193</th><td style=\"text-align: center\">0/0</td><td style=\"text-align: center\">1/1</td><td style=\"text-align: center\">1/1</td><td style=\"text-align: center\">1/1</td><td style=\"text-align: center\">1/1</td><td style=\"text-align: center\">...</td><td style=\"text-align: center\">1/1</td><td style=\"text-align: center\">0/0</td><td style=\"text-align: center\">1/1</td><td style=\"text-align: center\">0/1</td><td style=\"text-align: center\">1/1</td></tr><tr><th style=\"text-align: center; background-color: white; border-right: 1px solid black; \">42194</th><td style=\"text-align: center\">0/0</td><td style=\"text-align: center\">0/0</td><td style=\"text-align: center\">0/0</td><td style=\"text-align: center\">0/0</td><td style=\"text-align: center\">1/1</td><td style=\"text-align: center\">...</td><td style=\"text-align: center\">0/0</td><td style=\"text-align: center\">0/0</td><td style=\"text-align: center\">0/0</td><td style=\"text-align: center\">./.</td><td style=\"text-align: center\">0/0</td></tr></tbody></table></div>"
      ],
      "text/plain": [
       "<GenotypeArray shape=(42195, 20087, 2) dtype=int8>\n",
       "1/1 0/0 ./. 0/0 0/0 ... 0/0 0/0 0/0 0/0 0/1\n",
       "1/1 0/0 ./. 0/0 0/0 ... 0/0 0/0 0/0 0/0 0/1\n",
       "1/1 0/0 0/1 0/0 0/0 ... 0/0 0/0 0/0 0/0 0/1\n",
       "...\n",
       "0/0 0/0 0/0 0/0 1/1 ... 0/0 0/0 0/0 1/1 ./.\n",
       "0/0 1/1 1/1 1/1 1/1 ... 1/1 0/0 1/1 0/1 1/1\n",
       "0/0 0/0 0/0 0/0 1/1 ... 0/0 0/0 0/0 ./. 0/0"
      ]
     },
     "execution_count": 18,
     "metadata": {},
     "output_type": "execute_result"
    }
   ],
   "source": [
    "# Genotype array\n",
    "genotypes=allel.GenotypeArray(geno)\n",
    "genotypes"
   ]
  },
  {
   "cell_type": "markdown",
   "id": "20a91db2",
   "metadata": {},
   "source": [
    "##### Allele count, i.e., count the number times each allele (0=reference, 1=first alternate, 2=second alternate, etc.) is observed for each variant\n",
    "\n",
    "Note: notice that we have only 1 alternate allele"
   ]
  },
  {
   "cell_type": "code",
   "execution_count": 19,
   "id": "c44334ba",
   "metadata": {},
   "outputs": [
    {
     "data": {
      "text/html": [
       "<div class=\"allel allel-DisplayAs2D\"><span>&lt;AlleleCountsArray shape=(42195, 2) dtype=int32&gt;</span><table><thead><tr><th></th><th style=\"text-align: center\">0</th><th style=\"text-align: center\">1</th></tr></thead><tbody><tr><th style=\"text-align: center; background-color: white; border-right: 1px solid black; \">0</th><td style=\"text-align: center\">30113</td><td style=\"text-align: center\"> 9903</td></tr><tr><th style=\"text-align: center; background-color: white; border-right: 1px solid black; \">1</th><td style=\"text-align: center\">29867</td><td style=\"text-align: center\"> 9835</td></tr><tr><th style=\"text-align: center; background-color: white; border-right: 1px solid black; \">2</th><td style=\"text-align: center\">27974</td><td style=\"text-align: center\">11918</td></tr><tr><th style=\"text-align: center; background-color: white; border-right: 1px solid black; \">...</th><td style=\"text-align: center\" colspan=\"3\">...</td></tr><tr><th style=\"text-align: center; background-color: white; border-right: 1px solid black; \">42192</th><td style=\"text-align: center\">32071</td><td style=\"text-align: center\"> 7905</td></tr><tr><th style=\"text-align: center; background-color: white; border-right: 1px solid black; \">42193</th><td style=\"text-align: center\">10712</td><td style=\"text-align: center\">29000</td></tr><tr><th style=\"text-align: center; background-color: white; border-right: 1px solid black; \">42194</th><td style=\"text-align: center\">33638</td><td style=\"text-align: center\"> 4566</td></tr></tbody></table></div>"
      ],
      "text/plain": [
       "<AlleleCountsArray shape=(42195, 2) dtype=int32>\n",
       "30113  9903\n",
       "29867  9835\n",
       "27974 11918\n",
       "...\n",
       "32071  7905\n",
       "10712 29000\n",
       "33638  4566"
      ]
     },
     "execution_count": 19,
     "metadata": {},
     "output_type": "execute_result"
    }
   ],
   "source": [
    "ac = genotypes.count_alleles()\n",
    "ac"
   ]
  },
  {
   "cell_type": "markdown",
   "id": "13396e66",
   "metadata": {},
   "source": [
    "### Reshape genotype array to view it as haplotypes by dropping the ploidy dimension\n",
    "\n",
    "seems to_haplotypes() generates hapotype arrays with doubled the number of samples (from 20087 to 40174); each value (1/1) is split in to two columns (1 and 1). "
   ]
  },
  {
   "cell_type": "code",
   "execution_count": 20,
   "id": "23c3c835",
   "metadata": {},
   "outputs": [
    {
     "data": {
      "text/html": [
       "<div class=\"allel allel-DisplayAs2D\"><span>&lt;HaplotypeArray shape=(42195, 40174) dtype=int8&gt;</span><table><thead><tr><th></th><th style=\"text-align: center\">0</th><th style=\"text-align: center\">1</th><th style=\"text-align: center\">2</th><th style=\"text-align: center\">3</th><th style=\"text-align: center\">4</th><th style=\"text-align: center\">...</th><th style=\"text-align: center\">40169</th><th style=\"text-align: center\">40170</th><th style=\"text-align: center\">40171</th><th style=\"text-align: center\">40172</th><th style=\"text-align: center\">40173</th></tr></thead><tbody><tr><th style=\"text-align: center; background-color: white; border-right: 1px solid black; \">0</th><td style=\"text-align: center\">1</td><td style=\"text-align: center\">1</td><td style=\"text-align: center\">0</td><td style=\"text-align: center\">0</td><td style=\"text-align: center\">.</td><td style=\"text-align: center\">...</td><td style=\"text-align: center\">0</td><td style=\"text-align: center\">0</td><td style=\"text-align: center\">0</td><td style=\"text-align: center\">0</td><td style=\"text-align: center\">1</td></tr><tr><th style=\"text-align: center; background-color: white; border-right: 1px solid black; \">1</th><td style=\"text-align: center\">1</td><td style=\"text-align: center\">1</td><td style=\"text-align: center\">0</td><td style=\"text-align: center\">0</td><td style=\"text-align: center\">.</td><td style=\"text-align: center\">...</td><td style=\"text-align: center\">0</td><td style=\"text-align: center\">0</td><td style=\"text-align: center\">0</td><td style=\"text-align: center\">0</td><td style=\"text-align: center\">1</td></tr><tr><th style=\"text-align: center; background-color: white; border-right: 1px solid black; \">2</th><td style=\"text-align: center\">1</td><td style=\"text-align: center\">1</td><td style=\"text-align: center\">0</td><td style=\"text-align: center\">0</td><td style=\"text-align: center\">0</td><td style=\"text-align: center\">...</td><td style=\"text-align: center\">0</td><td style=\"text-align: center\">0</td><td style=\"text-align: center\">0</td><td style=\"text-align: center\">0</td><td style=\"text-align: center\">1</td></tr><tr><th style=\"text-align: center; background-color: white; border-right: 1px solid black; \">...</th><td style=\"text-align: center\" colspan=\"12\">...</td></tr><tr><th style=\"text-align: center; background-color: white; border-right: 1px solid black; \">42192</th><td style=\"text-align: center\">0</td><td style=\"text-align: center\">0</td><td style=\"text-align: center\">0</td><td style=\"text-align: center\">0</td><td style=\"text-align: center\">0</td><td style=\"text-align: center\">...</td><td style=\"text-align: center\">0</td><td style=\"text-align: center\">1</td><td style=\"text-align: center\">1</td><td style=\"text-align: center\">.</td><td style=\"text-align: center\">.</td></tr><tr><th style=\"text-align: center; background-color: white; border-right: 1px solid black; \">42193</th><td style=\"text-align: center\">0</td><td style=\"text-align: center\">0</td><td style=\"text-align: center\">1</td><td style=\"text-align: center\">1</td><td style=\"text-align: center\">1</td><td style=\"text-align: center\">...</td><td style=\"text-align: center\">1</td><td style=\"text-align: center\">0</td><td style=\"text-align: center\">1</td><td style=\"text-align: center\">1</td><td style=\"text-align: center\">1</td></tr><tr><th style=\"text-align: center; background-color: white; border-right: 1px solid black; \">42194</th><td style=\"text-align: center\">0</td><td style=\"text-align: center\">0</td><td style=\"text-align: center\">0</td><td style=\"text-align: center\">0</td><td style=\"text-align: center\">0</td><td style=\"text-align: center\">...</td><td style=\"text-align: center\">0</td><td style=\"text-align: center\">.</td><td style=\"text-align: center\">.</td><td style=\"text-align: center\">0</td><td style=\"text-align: center\">0</td></tr></tbody></table></div>"
      ],
      "text/plain": [
       "<HaplotypeArray shape=(42195, 40174) dtype=int8>\n",
       "1 1 0 0 . ... 0 0 0 0 1\n",
       "1 1 0 0 . ... 0 0 0 0 1\n",
       "1 1 0 0 0 ... 0 0 0 0 1\n",
       "...\n",
       "0 0 0 0 0 ... 0 1 1 . .\n",
       "0 0 1 1 1 ... 1 0 1 1 1\n",
       "0 0 0 0 0 ... 0 . . 0 0"
      ]
     },
     "execution_count": 20,
     "metadata": {},
     "output_type": "execute_result"
    }
   ],
   "source": [
    "haps=genotypes.to_haplotypes() \n",
    "haps"
   ]
  },
  {
   "cell_type": "code",
   "execution_count": 76,
   "id": "9f726d49",
   "metadata": {},
   "outputs": [
    {
     "data": {
      "text/html": [
       "<div>\n",
       "<style scoped>\n",
       "    .dataframe tbody tr th:only-of-type {\n",
       "        vertical-align: middle;\n",
       "    }\n",
       "\n",
       "    .dataframe tbody tr th {\n",
       "        vertical-align: top;\n",
       "    }\n",
       "\n",
       "    .dataframe thead th {\n",
       "        text-align: right;\n",
       "    }\n",
       "</style>\n",
       "<table border=\"1\" class=\"dataframe\">\n",
       "  <thead>\n",
       "    <tr style=\"text-align: right;\">\n",
       "      <th></th>\n",
       "      <th>0</th>\n",
       "      <th>1</th>\n",
       "      <th>2</th>\n",
       "      <th>3</th>\n",
       "      <th>4</th>\n",
       "      <th>5</th>\n",
       "      <th>6</th>\n",
       "      <th>7</th>\n",
       "      <th>8</th>\n",
       "      <th>9</th>\n",
       "      <th>...</th>\n",
       "      <th>42185</th>\n",
       "      <th>42186</th>\n",
       "      <th>42187</th>\n",
       "      <th>42188</th>\n",
       "      <th>42189</th>\n",
       "      <th>42190</th>\n",
       "      <th>42191</th>\n",
       "      <th>42192</th>\n",
       "      <th>42193</th>\n",
       "      <th>42194</th>\n",
       "    </tr>\n",
       "  </thead>\n",
       "  <tbody>\n",
       "    <tr>\n",
       "      <th>0</th>\n",
       "      <td>1</td>\n",
       "      <td>1</td>\n",
       "      <td>1</td>\n",
       "      <td>0</td>\n",
       "      <td>0</td>\n",
       "      <td>0</td>\n",
       "      <td>1</td>\n",
       "      <td>0</td>\n",
       "      <td>1</td>\n",
       "      <td>1</td>\n",
       "      <td>...</td>\n",
       "      <td>0</td>\n",
       "      <td>0</td>\n",
       "      <td>0</td>\n",
       "      <td>1</td>\n",
       "      <td>1</td>\n",
       "      <td>1</td>\n",
       "      <td>1</td>\n",
       "      <td>0</td>\n",
       "      <td>0</td>\n",
       "      <td>0</td>\n",
       "    </tr>\n",
       "    <tr>\n",
       "      <th>1</th>\n",
       "      <td>1</td>\n",
       "      <td>1</td>\n",
       "      <td>1</td>\n",
       "      <td>0</td>\n",
       "      <td>0</td>\n",
       "      <td>0</td>\n",
       "      <td>1</td>\n",
       "      <td>0</td>\n",
       "      <td>1</td>\n",
       "      <td>1</td>\n",
       "      <td>...</td>\n",
       "      <td>0</td>\n",
       "      <td>0</td>\n",
       "      <td>0</td>\n",
       "      <td>1</td>\n",
       "      <td>1</td>\n",
       "      <td>1</td>\n",
       "      <td>1</td>\n",
       "      <td>0</td>\n",
       "      <td>0</td>\n",
       "      <td>0</td>\n",
       "    </tr>\n",
       "    <tr>\n",
       "      <th>2</th>\n",
       "      <td>0</td>\n",
       "      <td>0</td>\n",
       "      <td>0</td>\n",
       "      <td>0</td>\n",
       "      <td>0</td>\n",
       "      <td>0</td>\n",
       "      <td>0</td>\n",
       "      <td>0</td>\n",
       "      <td>0</td>\n",
       "      <td>0</td>\n",
       "      <td>...</td>\n",
       "      <td>0</td>\n",
       "      <td>0</td>\n",
       "      <td>0</td>\n",
       "      <td>1</td>\n",
       "      <td>0</td>\n",
       "      <td>1</td>\n",
       "      <td>1</td>\n",
       "      <td>0</td>\n",
       "      <td>1</td>\n",
       "      <td>0</td>\n",
       "    </tr>\n",
       "    <tr>\n",
       "      <th>3</th>\n",
       "      <td>0</td>\n",
       "      <td>0</td>\n",
       "      <td>0</td>\n",
       "      <td>0</td>\n",
       "      <td>0</td>\n",
       "      <td>0</td>\n",
       "      <td>0</td>\n",
       "      <td>0</td>\n",
       "      <td>0</td>\n",
       "      <td>0</td>\n",
       "      <td>...</td>\n",
       "      <td>0</td>\n",
       "      <td>0</td>\n",
       "      <td>0</td>\n",
       "      <td>1</td>\n",
       "      <td>0</td>\n",
       "      <td>1</td>\n",
       "      <td>1</td>\n",
       "      <td>0</td>\n",
       "      <td>1</td>\n",
       "      <td>0</td>\n",
       "    </tr>\n",
       "    <tr>\n",
       "      <th>4</th>\n",
       "      <td>-1</td>\n",
       "      <td>-1</td>\n",
       "      <td>0</td>\n",
       "      <td>0</td>\n",
       "      <td>0</td>\n",
       "      <td>0</td>\n",
       "      <td>0</td>\n",
       "      <td>0</td>\n",
       "      <td>0</td>\n",
       "      <td>0</td>\n",
       "      <td>...</td>\n",
       "      <td>0</td>\n",
       "      <td>0</td>\n",
       "      <td>0</td>\n",
       "      <td>1</td>\n",
       "      <td>0</td>\n",
       "      <td>1</td>\n",
       "      <td>1</td>\n",
       "      <td>0</td>\n",
       "      <td>1</td>\n",
       "      <td>0</td>\n",
       "    </tr>\n",
       "  </tbody>\n",
       "</table>\n",
       "<p>5 rows × 42195 columns</p>\n",
       "</div>"
      ],
      "text/plain": [
       "   0      1      2      3      4      5      6      7      8      9      ...  \\\n",
       "0      1      1      1      0      0      0      1      0      1      1  ...   \n",
       "1      1      1      1      0      0      0      1      0      1      1  ...   \n",
       "2      0      0      0      0      0      0      0      0      0      0  ...   \n",
       "3      0      0      0      0      0      0      0      0      0      0  ...   \n",
       "4     -1     -1      0      0      0      0      0      0      0      0  ...   \n",
       "\n",
       "   42185  42186  42187  42188  42189  42190  42191  42192  42193  42194  \n",
       "0      0      0      0      1      1      1      1      0      0      0  \n",
       "1      0      0      0      1      1      1      1      0      0      0  \n",
       "2      0      0      0      1      0      1      1      0      1      0  \n",
       "3      0      0      0      1      0      1      1      0      1      0  \n",
       "4      0      0      0      1      0      1      1      0      1      0  \n",
       "\n",
       "[5 rows x 42195 columns]"
      ]
     },
     "execution_count": 76,
     "metadata": {},
     "output_type": "execute_result"
    }
   ],
   "source": [
    "# create dataframe of haplotypes by transposing the array (with out transposing, memory is too much and getting error)\n",
    "haps_df=pd.DataFrame(haps.T)\n",
    "haps_df.head()\n",
    "\n",
    "# rows are samples, columns are variants/SNPs"
   ]
  },
  {
   "cell_type": "code",
   "execution_count": 25,
   "id": "ee5b9fc7",
   "metadata": {},
   "outputs": [
    {
     "data": {
      "text/html": [
       "<div>\n",
       "<style scoped>\n",
       "    .dataframe tbody tr th:only-of-type {\n",
       "        vertical-align: middle;\n",
       "    }\n",
       "\n",
       "    .dataframe tbody tr th {\n",
       "        vertical-align: top;\n",
       "    }\n",
       "\n",
       "    .dataframe thead th {\n",
       "        text-align: right;\n",
       "    }\n",
       "</style>\n",
       "<table border=\"1\" class=\"dataframe\">\n",
       "  <thead>\n",
       "    <tr style=\"text-align: right;\">\n",
       "      <th></th>\n",
       "      <th>0</th>\n",
       "      <th>1</th>\n",
       "      <th>2</th>\n",
       "      <th>3</th>\n",
       "      <th>4</th>\n",
       "      <th>5</th>\n",
       "      <th>6</th>\n",
       "      <th>7</th>\n",
       "      <th>8</th>\n",
       "      <th>9</th>\n",
       "      <th>...</th>\n",
       "      <th>42185</th>\n",
       "      <th>42186</th>\n",
       "      <th>42187</th>\n",
       "      <th>42188</th>\n",
       "      <th>42189</th>\n",
       "      <th>42190</th>\n",
       "      <th>42191</th>\n",
       "      <th>42192</th>\n",
       "      <th>42193</th>\n",
       "      <th>42194</th>\n",
       "    </tr>\n",
       "  </thead>\n",
       "  <tbody>\n",
       "    <tr>\n",
       "      <th>0</th>\n",
       "      <td>2</td>\n",
       "      <td>2</td>\n",
       "      <td>2</td>\n",
       "      <td>0</td>\n",
       "      <td>0</td>\n",
       "      <td>0</td>\n",
       "      <td>2</td>\n",
       "      <td>0</td>\n",
       "      <td>2</td>\n",
       "      <td>2</td>\n",
       "      <td>...</td>\n",
       "      <td>0</td>\n",
       "      <td>0</td>\n",
       "      <td>0</td>\n",
       "      <td>2</td>\n",
       "      <td>2</td>\n",
       "      <td>2</td>\n",
       "      <td>2</td>\n",
       "      <td>0</td>\n",
       "      <td>0</td>\n",
       "      <td>0</td>\n",
       "    </tr>\n",
       "    <tr>\n",
       "      <th>1</th>\n",
       "      <td>0</td>\n",
       "      <td>0</td>\n",
       "      <td>0</td>\n",
       "      <td>0</td>\n",
       "      <td>0</td>\n",
       "      <td>0</td>\n",
       "      <td>0</td>\n",
       "      <td>0</td>\n",
       "      <td>0</td>\n",
       "      <td>0</td>\n",
       "      <td>...</td>\n",
       "      <td>0</td>\n",
       "      <td>0</td>\n",
       "      <td>0</td>\n",
       "      <td>2</td>\n",
       "      <td>0</td>\n",
       "      <td>2</td>\n",
       "      <td>2</td>\n",
       "      <td>0</td>\n",
       "      <td>2</td>\n",
       "      <td>0</td>\n",
       "    </tr>\n",
       "    <tr>\n",
       "      <th>2</th>\n",
       "      <td>-2</td>\n",
       "      <td>-2</td>\n",
       "      <td>1</td>\n",
       "      <td>0</td>\n",
       "      <td>1</td>\n",
       "      <td>0</td>\n",
       "      <td>1</td>\n",
       "      <td>1</td>\n",
       "      <td>1</td>\n",
       "      <td>1</td>\n",
       "      <td>...</td>\n",
       "      <td>0</td>\n",
       "      <td>0</td>\n",
       "      <td>0</td>\n",
       "      <td>2</td>\n",
       "      <td>0</td>\n",
       "      <td>2</td>\n",
       "      <td>2</td>\n",
       "      <td>0</td>\n",
       "      <td>2</td>\n",
       "      <td>0</td>\n",
       "    </tr>\n",
       "    <tr>\n",
       "      <th>3</th>\n",
       "      <td>0</td>\n",
       "      <td>0</td>\n",
       "      <td>0</td>\n",
       "      <td>0</td>\n",
       "      <td>0</td>\n",
       "      <td>0</td>\n",
       "      <td>0</td>\n",
       "      <td>0</td>\n",
       "      <td>0</td>\n",
       "      <td>0</td>\n",
       "      <td>...</td>\n",
       "      <td>0</td>\n",
       "      <td>0</td>\n",
       "      <td>0</td>\n",
       "      <td>2</td>\n",
       "      <td>0</td>\n",
       "      <td>2</td>\n",
       "      <td>2</td>\n",
       "      <td>0</td>\n",
       "      <td>2</td>\n",
       "      <td>0</td>\n",
       "    </tr>\n",
       "    <tr>\n",
       "      <th>4</th>\n",
       "      <td>0</td>\n",
       "      <td>0</td>\n",
       "      <td>0</td>\n",
       "      <td>0</td>\n",
       "      <td>0</td>\n",
       "      <td>0</td>\n",
       "      <td>0</td>\n",
       "      <td>0</td>\n",
       "      <td>-2</td>\n",
       "      <td>0</td>\n",
       "      <td>...</td>\n",
       "      <td>0</td>\n",
       "      <td>0</td>\n",
       "      <td>0</td>\n",
       "      <td>2</td>\n",
       "      <td>0</td>\n",
       "      <td>2</td>\n",
       "      <td>2</td>\n",
       "      <td>2</td>\n",
       "      <td>2</td>\n",
       "      <td>2</td>\n",
       "    </tr>\n",
       "  </tbody>\n",
       "</table>\n",
       "<p>5 rows × 42195 columns</p>\n",
       "</div>"
      ],
      "text/plain": [
       "   0      1      2      3      4      5      6      7      8      9      ...  \\\n",
       "0      2      2      2      0      0      0      2      0      2      2  ...   \n",
       "1      0      0      0      0      0      0      0      0      0      0  ...   \n",
       "2     -2     -2      1      0      1      0      1      1      1      1  ...   \n",
       "3      0      0      0      0      0      0      0      0      0      0  ...   \n",
       "4      0      0      0      0      0      0      0      0     -2      0  ...   \n",
       "\n",
       "   42185  42186  42187  42188  42189  42190  42191  42192  42193  42194  \n",
       "0      0      0      0      2      2      2      2      0      0      0  \n",
       "1      0      0      0      2      0      2      2      0      2      0  \n",
       "2      0      0      0      2      0      2      2      0      2      0  \n",
       "3      0      0      0      2      0      2      2      0      2      0  \n",
       "4      0      0      0      2      0      2      2      2      2      2  \n",
       "\n",
       "[5 rows x 42195 columns]"
      ]
     },
     "execution_count": 25,
     "metadata": {},
     "output_type": "execute_result"
    }
   ],
   "source": [
    "# combining allele call for every two rows to reduce samples from 40174 to 20087\n",
    "result = haps_df.groupby(np.arange(len(haps_df))//2).sum()\n",
    "result.head()"
   ]
  },
  {
   "cell_type": "markdown",
   "id": "f202c36b",
   "metadata": {},
   "source": [
    "Genotyping data calls: 0 reference allele, 2 alternate allele, 1 het, -2 consider as missing"
   ]
  },
  {
   "cell_type": "code",
   "execution_count": 88,
   "id": "fd0d2594",
   "metadata": {
    "scrolled": true
   },
   "outputs": [
    {
     "data": {
      "text/html": [
       "<div>\n",
       "<style scoped>\n",
       "    .dataframe tbody tr th:only-of-type {\n",
       "        vertical-align: middle;\n",
       "    }\n",
       "\n",
       "    .dataframe tbody tr th {\n",
       "        vertical-align: top;\n",
       "    }\n",
       "\n",
       "    .dataframe thead th {\n",
       "        text-align: right;\n",
       "    }\n",
       "</style>\n",
       "<table border=\"1\" class=\"dataframe\">\n",
       "  <thead>\n",
       "    <tr style=\"text-align: right;\">\n",
       "      <th></th>\n",
       "      <th>0</th>\n",
       "      <th>1</th>\n",
       "      <th>2</th>\n",
       "      <th>3</th>\n",
       "      <th>4</th>\n",
       "      <th>5</th>\n",
       "      <th>6</th>\n",
       "      <th>7</th>\n",
       "      <th>8</th>\n",
       "      <th>9</th>\n",
       "      <th>...</th>\n",
       "      <th>20077</th>\n",
       "      <th>20078</th>\n",
       "      <th>20079</th>\n",
       "      <th>20080</th>\n",
       "      <th>20081</th>\n",
       "      <th>20082</th>\n",
       "      <th>20083</th>\n",
       "      <th>20084</th>\n",
       "      <th>20085</th>\n",
       "      <th>20086</th>\n",
       "    </tr>\n",
       "  </thead>\n",
       "  <tbody>\n",
       "    <tr>\n",
       "      <th>0</th>\n",
       "      <td>2</td>\n",
       "      <td>0</td>\n",
       "      <td>-2</td>\n",
       "      <td>0</td>\n",
       "      <td>0</td>\n",
       "      <td>0</td>\n",
       "      <td>0</td>\n",
       "      <td>0</td>\n",
       "      <td>2</td>\n",
       "      <td>0</td>\n",
       "      <td>...</td>\n",
       "      <td>0</td>\n",
       "      <td>0</td>\n",
       "      <td>2</td>\n",
       "      <td>0</td>\n",
       "      <td>0</td>\n",
       "      <td>0</td>\n",
       "      <td>0</td>\n",
       "      <td>0</td>\n",
       "      <td>0</td>\n",
       "      <td>1</td>\n",
       "    </tr>\n",
       "    <tr>\n",
       "      <th>1</th>\n",
       "      <td>2</td>\n",
       "      <td>0</td>\n",
       "      <td>-2</td>\n",
       "      <td>0</td>\n",
       "      <td>0</td>\n",
       "      <td>0</td>\n",
       "      <td>0</td>\n",
       "      <td>0</td>\n",
       "      <td>2</td>\n",
       "      <td>0</td>\n",
       "      <td>...</td>\n",
       "      <td>0</td>\n",
       "      <td>0</td>\n",
       "      <td>2</td>\n",
       "      <td>0</td>\n",
       "      <td>0</td>\n",
       "      <td>0</td>\n",
       "      <td>0</td>\n",
       "      <td>0</td>\n",
       "      <td>0</td>\n",
       "      <td>1</td>\n",
       "    </tr>\n",
       "    <tr>\n",
       "      <th>2</th>\n",
       "      <td>2</td>\n",
       "      <td>0</td>\n",
       "      <td>1</td>\n",
       "      <td>0</td>\n",
       "      <td>0</td>\n",
       "      <td>0</td>\n",
       "      <td>0</td>\n",
       "      <td>0</td>\n",
       "      <td>2</td>\n",
       "      <td>0</td>\n",
       "      <td>...</td>\n",
       "      <td>0</td>\n",
       "      <td>0</td>\n",
       "      <td>2</td>\n",
       "      <td>0</td>\n",
       "      <td>0</td>\n",
       "      <td>0</td>\n",
       "      <td>0</td>\n",
       "      <td>0</td>\n",
       "      <td>0</td>\n",
       "      <td>1</td>\n",
       "    </tr>\n",
       "    <tr>\n",
       "      <th>3</th>\n",
       "      <td>0</td>\n",
       "      <td>0</td>\n",
       "      <td>0</td>\n",
       "      <td>0</td>\n",
       "      <td>0</td>\n",
       "      <td>0</td>\n",
       "      <td>0</td>\n",
       "      <td>0</td>\n",
       "      <td>0</td>\n",
       "      <td>0</td>\n",
       "      <td>...</td>\n",
       "      <td>0</td>\n",
       "      <td>0</td>\n",
       "      <td>0</td>\n",
       "      <td>0</td>\n",
       "      <td>0</td>\n",
       "      <td>0</td>\n",
       "      <td>0</td>\n",
       "      <td>0</td>\n",
       "      <td>0</td>\n",
       "      <td>0</td>\n",
       "    </tr>\n",
       "    <tr>\n",
       "      <th>4</th>\n",
       "      <td>0</td>\n",
       "      <td>0</td>\n",
       "      <td>1</td>\n",
       "      <td>0</td>\n",
       "      <td>0</td>\n",
       "      <td>0</td>\n",
       "      <td>0</td>\n",
       "      <td>0</td>\n",
       "      <td>2</td>\n",
       "      <td>0</td>\n",
       "      <td>...</td>\n",
       "      <td>0</td>\n",
       "      <td>0</td>\n",
       "      <td>2</td>\n",
       "      <td>0</td>\n",
       "      <td>0</td>\n",
       "      <td>0</td>\n",
       "      <td>0</td>\n",
       "      <td>0</td>\n",
       "      <td>0</td>\n",
       "      <td>-2</td>\n",
       "    </tr>\n",
       "  </tbody>\n",
       "</table>\n",
       "<p>5 rows × 20087 columns</p>\n",
       "</div>"
      ],
      "text/plain": [
       "   0      1      2      3      4      5      6      7      8      9      ...  \\\n",
       "0      2      0     -2      0      0      0      0      0      2      0  ...   \n",
       "1      2      0     -2      0      0      0      0      0      2      0  ...   \n",
       "2      2      0      1      0      0      0      0      0      2      0  ...   \n",
       "3      0      0      0      0      0      0      0      0      0      0  ...   \n",
       "4      0      0      1      0      0      0      0      0      2      0  ...   \n",
       "\n",
       "   20077  20078  20079  20080  20081  20082  20083  20084  20085  20086  \n",
       "0      0      0      2      0      0      0      0      0      0      1  \n",
       "1      0      0      2      0      0      0      0      0      0      1  \n",
       "2      0      0      2      0      0      0      0      0      0      1  \n",
       "3      0      0      0      0      0      0      0      0      0      0  \n",
       "4      0      0      2      0      0      0      0      0      0     -2  \n",
       "\n",
       "[5 rows x 20087 columns]"
      ]
     },
     "execution_count": 88,
     "metadata": {},
     "output_type": "execute_result"
    }
   ],
   "source": [
    "# transpose the dataframe to keep samples as columns and SNPs as rows\n",
    "result_df=result.T\n",
    "result_df.head()"
   ]
  },
  {
   "cell_type": "markdown",
   "id": "5c049e65",
   "metadata": {},
   "source": [
    "# Add sample names as column headers to result_df"
   ]
  },
  {
   "cell_type": "markdown",
   "id": "a7b01a67",
   "metadata": {},
   "source": [
    "### samples array (header line from VCF file)"
   ]
  },
  {
   "cell_type": "code",
   "execution_count": 92,
   "id": "a49389a9",
   "metadata": {},
   "outputs": [
    {
     "name": "stdout",
     "output_type": "stream",
     "text": [
      "20087\n"
     ]
    },
    {
     "data": {
      "text/plain": [
       "array(['PI86046', 'PI90208', 'PI219698', ..., 'PI587906', 'PI587946',\n",
       "       'PI603516'], dtype=object)"
      ]
     },
     "execution_count": 92,
     "metadata": {},
     "output_type": "execute_result"
    }
   ],
   "source": [
    "# sampels array\n",
    "samples=callset['samples']\n",
    "print(samples.size)\n",
    "samples"
   ]
  },
  {
   "cell_type": "code",
   "execution_count": 125,
   "id": "4d79f07b",
   "metadata": {},
   "outputs": [
    {
     "data": {
      "text/html": [
       "<div>\n",
       "<style scoped>\n",
       "    .dataframe tbody tr th:only-of-type {\n",
       "        vertical-align: middle;\n",
       "    }\n",
       "\n",
       "    .dataframe tbody tr th {\n",
       "        vertical-align: top;\n",
       "    }\n",
       "\n",
       "    .dataframe thead th {\n",
       "        text-align: right;\n",
       "    }\n",
       "</style>\n",
       "<table border=\"1\" class=\"dataframe\">\n",
       "  <thead>\n",
       "    <tr style=\"text-align: right;\">\n",
       "      <th></th>\n",
       "      <th>0</th>\n",
       "    </tr>\n",
       "  </thead>\n",
       "  <tbody>\n",
       "    <tr>\n",
       "      <th>0</th>\n",
       "      <td>PI86046</td>\n",
       "    </tr>\n",
       "    <tr>\n",
       "      <th>1</th>\n",
       "      <td>PI90208</td>\n",
       "    </tr>\n",
       "    <tr>\n",
       "      <th>2</th>\n",
       "      <td>PI219698</td>\n",
       "    </tr>\n",
       "    <tr>\n",
       "      <th>3</th>\n",
       "      <td>PI253651A</td>\n",
       "    </tr>\n",
       "    <tr>\n",
       "      <th>4</th>\n",
       "      <td>PI347550A</td>\n",
       "    </tr>\n",
       "  </tbody>\n",
       "</table>\n",
       "</div>"
      ],
      "text/plain": [
       "           0\n",
       "0    PI86046\n",
       "1    PI90208\n",
       "2   PI219698\n",
       "3  PI253651A\n",
       "4  PI347550A"
      ]
     },
     "execution_count": 125,
     "metadata": {},
     "output_type": "execute_result"
    }
   ],
   "source": [
    "# convert samples array to dataframe\n",
    "df2 = pd.DataFrame(data = samples)\n",
    "#df2.columns=['GEName']\n",
    "df2.head()"
   ]
  },
  {
   "cell_type": "code",
   "execution_count": 126,
   "id": "912e37c5",
   "metadata": {},
   "outputs": [
    {
     "data": {
      "text/html": [
       "<div>\n",
       "<style scoped>\n",
       "    .dataframe tbody tr th:only-of-type {\n",
       "        vertical-align: middle;\n",
       "    }\n",
       "\n",
       "    .dataframe tbody tr th {\n",
       "        vertical-align: top;\n",
       "    }\n",
       "\n",
       "    .dataframe thead th {\n",
       "        text-align: right;\n",
       "    }\n",
       "</style>\n",
       "<table border=\"1\" class=\"dataframe\">\n",
       "  <thead>\n",
       "    <tr style=\"text-align: right;\">\n",
       "      <th></th>\n",
       "      <th>0</th>\n",
       "      <th>1</th>\n",
       "      <th>2</th>\n",
       "      <th>3</th>\n",
       "      <th>4</th>\n",
       "      <th>5</th>\n",
       "      <th>6</th>\n",
       "      <th>7</th>\n",
       "      <th>8</th>\n",
       "      <th>9</th>\n",
       "      <th>...</th>\n",
       "      <th>20077</th>\n",
       "      <th>20078</th>\n",
       "      <th>20079</th>\n",
       "      <th>20080</th>\n",
       "      <th>20081</th>\n",
       "      <th>20082</th>\n",
       "      <th>20083</th>\n",
       "      <th>20084</th>\n",
       "      <th>20085</th>\n",
       "      <th>20086</th>\n",
       "    </tr>\n",
       "  </thead>\n",
       "  <tbody>\n",
       "    <tr>\n",
       "      <th>0</th>\n",
       "      <td>PI86046</td>\n",
       "      <td>PI90208</td>\n",
       "      <td>PI219698</td>\n",
       "      <td>PI253651A</td>\n",
       "      <td>PI347550A</td>\n",
       "      <td>PI398807</td>\n",
       "      <td>PI408055A</td>\n",
       "      <td>PI408069</td>\n",
       "      <td>PI408169A</td>\n",
       "      <td>PI408169B</td>\n",
       "      <td>...</td>\n",
       "      <td>PI574480B</td>\n",
       "      <td>PI578360</td>\n",
       "      <td>PI578362</td>\n",
       "      <td>PI639693</td>\n",
       "      <td>PI657626</td>\n",
       "      <td>PI634759</td>\n",
       "      <td>PI423967</td>\n",
       "      <td>PI587906</td>\n",
       "      <td>PI587946</td>\n",
       "      <td>PI603516</td>\n",
       "    </tr>\n",
       "  </tbody>\n",
       "</table>\n",
       "<p>1 rows × 20087 columns</p>\n",
       "</div>"
      ],
      "text/plain": [
       "     0        1         2          3          4         5          6      \\\n",
       "0  PI86046  PI90208  PI219698  PI253651A  PI347550A  PI398807  PI408055A   \n",
       "\n",
       "      7          8          9      ...      20077     20078     20079  \\\n",
       "0  PI408069  PI408169A  PI408169B  ...  PI574480B  PI578360  PI578362   \n",
       "\n",
       "      20080     20081     20082     20083     20084     20085     20086  \n",
       "0  PI639693  PI657626  PI634759  PI423967  PI587906  PI587946  PI603516  \n",
       "\n",
       "[1 rows x 20087 columns]"
      ]
     },
     "execution_count": 126,
     "metadata": {},
     "output_type": "execute_result"
    }
   ],
   "source": [
    "# transpose samples dataframe\n",
    "samples_df=df2.T\n",
    "samples_df"
   ]
  },
  {
   "cell_type": "code",
   "execution_count": 127,
   "id": "ed86bda4",
   "metadata": {},
   "outputs": [
    {
     "data": {
      "text/html": [
       "<div>\n",
       "<style scoped>\n",
       "    .dataframe tbody tr th:only-of-type {\n",
       "        vertical-align: middle;\n",
       "    }\n",
       "\n",
       "    .dataframe tbody tr th {\n",
       "        vertical-align: top;\n",
       "    }\n",
       "\n",
       "    .dataframe thead th {\n",
       "        text-align: right;\n",
       "    }\n",
       "</style>\n",
       "<table border=\"1\" class=\"dataframe\">\n",
       "  <thead>\n",
       "    <tr style=\"text-align: right;\">\n",
       "      <th></th>\n",
       "      <th>PI86046</th>\n",
       "      <th>PI90208</th>\n",
       "      <th>PI219698</th>\n",
       "      <th>PI253651A</th>\n",
       "      <th>PI347550A</th>\n",
       "      <th>PI398807</th>\n",
       "      <th>PI408055A</th>\n",
       "      <th>PI408069</th>\n",
       "      <th>PI408169A</th>\n",
       "      <th>PI408169B</th>\n",
       "      <th>...</th>\n",
       "      <th>PI574480B</th>\n",
       "      <th>PI578360</th>\n",
       "      <th>PI578362</th>\n",
       "      <th>PI639693</th>\n",
       "      <th>PI657626</th>\n",
       "      <th>PI634759</th>\n",
       "      <th>PI423967</th>\n",
       "      <th>PI587906</th>\n",
       "      <th>PI587946</th>\n",
       "      <th>PI603516</th>\n",
       "    </tr>\n",
       "  </thead>\n",
       "  <tbody>\n",
       "    <tr>\n",
       "      <th>0</th>\n",
       "      <td>PI86046</td>\n",
       "      <td>PI90208</td>\n",
       "      <td>PI219698</td>\n",
       "      <td>PI253651A</td>\n",
       "      <td>PI347550A</td>\n",
       "      <td>PI398807</td>\n",
       "      <td>PI408055A</td>\n",
       "      <td>PI408069</td>\n",
       "      <td>PI408169A</td>\n",
       "      <td>PI408169B</td>\n",
       "      <td>...</td>\n",
       "      <td>PI574480B</td>\n",
       "      <td>PI578360</td>\n",
       "      <td>PI578362</td>\n",
       "      <td>PI639693</td>\n",
       "      <td>PI657626</td>\n",
       "      <td>PI634759</td>\n",
       "      <td>PI423967</td>\n",
       "      <td>PI587906</td>\n",
       "      <td>PI587946</td>\n",
       "      <td>PI603516</td>\n",
       "    </tr>\n",
       "  </tbody>\n",
       "</table>\n",
       "<p>1 rows × 20087 columns</p>\n",
       "</div>"
      ],
      "text/plain": [
       "0  PI86046  PI90208  PI219698  PI253651A  PI347550A  PI398807  PI408055A  \\\n",
       "0  PI86046  PI90208  PI219698  PI253651A  PI347550A  PI398807  PI408055A   \n",
       "\n",
       "0  PI408069  PI408169A  PI408169B  ...  PI574480B  PI578360  PI578362  \\\n",
       "0  PI408069  PI408169A  PI408169B  ...  PI574480B  PI578360  PI578362   \n",
       "\n",
       "0  PI639693  PI657626  PI634759  PI423967  PI587906  PI587946  PI603516  \n",
       "0  PI639693  PI657626  PI634759  PI423967  PI587906  PI587946  PI603516  \n",
       "\n",
       "[1 rows x 20087 columns]"
      ]
     },
     "execution_count": 127,
     "metadata": {},
     "output_type": "execute_result"
    }
   ],
   "source": [
    "# column headers of dataframe\n",
    "samples_df.columns = samples_df.iloc[0]\n",
    "samples_df"
   ]
  },
  {
   "cell_type": "markdown",
   "id": "4af59b76",
   "metadata": {},
   "source": [
    "### Add sample names as column headers"
   ]
  },
  {
   "cell_type": "code",
   "execution_count": 129,
   "id": "2eff27dc",
   "metadata": {},
   "outputs": [
    {
     "data": {
      "text/html": [
       "<div>\n",
       "<style scoped>\n",
       "    .dataframe tbody tr th:only-of-type {\n",
       "        vertical-align: middle;\n",
       "    }\n",
       "\n",
       "    .dataframe tbody tr th {\n",
       "        vertical-align: top;\n",
       "    }\n",
       "\n",
       "    .dataframe thead th {\n",
       "        text-align: right;\n",
       "    }\n",
       "</style>\n",
       "<table border=\"1\" class=\"dataframe\">\n",
       "  <thead>\n",
       "    <tr style=\"text-align: right;\">\n",
       "      <th></th>\n",
       "      <th>PI86046</th>\n",
       "      <th>PI90208</th>\n",
       "      <th>PI219698</th>\n",
       "      <th>PI253651A</th>\n",
       "      <th>PI347550A</th>\n",
       "      <th>PI398807</th>\n",
       "      <th>PI408055A</th>\n",
       "      <th>PI408069</th>\n",
       "      <th>PI408169A</th>\n",
       "      <th>PI408169B</th>\n",
       "      <th>...</th>\n",
       "      <th>PI574480B</th>\n",
       "      <th>PI578360</th>\n",
       "      <th>PI578362</th>\n",
       "      <th>PI639693</th>\n",
       "      <th>PI657626</th>\n",
       "      <th>PI634759</th>\n",
       "      <th>PI423967</th>\n",
       "      <th>PI587906</th>\n",
       "      <th>PI587946</th>\n",
       "      <th>PI603516</th>\n",
       "    </tr>\n",
       "  </thead>\n",
       "  <tbody>\n",
       "    <tr>\n",
       "      <th>0</th>\n",
       "      <td>2</td>\n",
       "      <td>0</td>\n",
       "      <td>-2</td>\n",
       "      <td>0</td>\n",
       "      <td>0</td>\n",
       "      <td>0</td>\n",
       "      <td>0</td>\n",
       "      <td>0</td>\n",
       "      <td>2</td>\n",
       "      <td>0</td>\n",
       "      <td>...</td>\n",
       "      <td>0</td>\n",
       "      <td>0</td>\n",
       "      <td>2</td>\n",
       "      <td>0</td>\n",
       "      <td>0</td>\n",
       "      <td>0</td>\n",
       "      <td>0</td>\n",
       "      <td>0</td>\n",
       "      <td>0</td>\n",
       "      <td>1</td>\n",
       "    </tr>\n",
       "    <tr>\n",
       "      <th>1</th>\n",
       "      <td>2</td>\n",
       "      <td>0</td>\n",
       "      <td>-2</td>\n",
       "      <td>0</td>\n",
       "      <td>0</td>\n",
       "      <td>0</td>\n",
       "      <td>0</td>\n",
       "      <td>0</td>\n",
       "      <td>2</td>\n",
       "      <td>0</td>\n",
       "      <td>...</td>\n",
       "      <td>0</td>\n",
       "      <td>0</td>\n",
       "      <td>2</td>\n",
       "      <td>0</td>\n",
       "      <td>0</td>\n",
       "      <td>0</td>\n",
       "      <td>0</td>\n",
       "      <td>0</td>\n",
       "      <td>0</td>\n",
       "      <td>1</td>\n",
       "    </tr>\n",
       "    <tr>\n",
       "      <th>2</th>\n",
       "      <td>2</td>\n",
       "      <td>0</td>\n",
       "      <td>1</td>\n",
       "      <td>0</td>\n",
       "      <td>0</td>\n",
       "      <td>0</td>\n",
       "      <td>0</td>\n",
       "      <td>0</td>\n",
       "      <td>2</td>\n",
       "      <td>0</td>\n",
       "      <td>...</td>\n",
       "      <td>0</td>\n",
       "      <td>0</td>\n",
       "      <td>2</td>\n",
       "      <td>0</td>\n",
       "      <td>0</td>\n",
       "      <td>0</td>\n",
       "      <td>0</td>\n",
       "      <td>0</td>\n",
       "      <td>0</td>\n",
       "      <td>1</td>\n",
       "    </tr>\n",
       "    <tr>\n",
       "      <th>3</th>\n",
       "      <td>0</td>\n",
       "      <td>0</td>\n",
       "      <td>0</td>\n",
       "      <td>0</td>\n",
       "      <td>0</td>\n",
       "      <td>0</td>\n",
       "      <td>0</td>\n",
       "      <td>0</td>\n",
       "      <td>0</td>\n",
       "      <td>0</td>\n",
       "      <td>...</td>\n",
       "      <td>0</td>\n",
       "      <td>0</td>\n",
       "      <td>0</td>\n",
       "      <td>0</td>\n",
       "      <td>0</td>\n",
       "      <td>0</td>\n",
       "      <td>0</td>\n",
       "      <td>0</td>\n",
       "      <td>0</td>\n",
       "      <td>0</td>\n",
       "    </tr>\n",
       "    <tr>\n",
       "      <th>4</th>\n",
       "      <td>0</td>\n",
       "      <td>0</td>\n",
       "      <td>1</td>\n",
       "      <td>0</td>\n",
       "      <td>0</td>\n",
       "      <td>0</td>\n",
       "      <td>0</td>\n",
       "      <td>0</td>\n",
       "      <td>2</td>\n",
       "      <td>0</td>\n",
       "      <td>...</td>\n",
       "      <td>0</td>\n",
       "      <td>0</td>\n",
       "      <td>2</td>\n",
       "      <td>0</td>\n",
       "      <td>0</td>\n",
       "      <td>0</td>\n",
       "      <td>0</td>\n",
       "      <td>0</td>\n",
       "      <td>0</td>\n",
       "      <td>-2</td>\n",
       "    </tr>\n",
       "  </tbody>\n",
       "</table>\n",
       "<p>5 rows × 20087 columns</p>\n",
       "</div>"
      ],
      "text/plain": [
       "0  PI86046  PI90208  PI219698  PI253651A  PI347550A  PI398807  PI408055A  \\\n",
       "0        2        0        -2          0          0         0          0   \n",
       "1        2        0        -2          0          0         0          0   \n",
       "2        2        0         1          0          0         0          0   \n",
       "3        0        0         0          0          0         0          0   \n",
       "4        0        0         1          0          0         0          0   \n",
       "\n",
       "0  PI408069  PI408169A  PI408169B  ...  PI574480B  PI578360  PI578362  \\\n",
       "0         0          2          0  ...          0         0         2   \n",
       "1         0          2          0  ...          0         0         2   \n",
       "2         0          2          0  ...          0         0         2   \n",
       "3         0          0          0  ...          0         0         0   \n",
       "4         0          2          0  ...          0         0         2   \n",
       "\n",
       "0  PI639693  PI657626  PI634759  PI423967  PI587906  PI587946  PI603516  \n",
       "0         0         0         0         0         0         0         1  \n",
       "1         0         0         0         0         0         0         1  \n",
       "2         0         0         0         0         0         0         1  \n",
       "3         0         0         0         0         0         0         0  \n",
       "4         0         0         0         0         0         0        -2  \n",
       "\n",
       "[5 rows x 20087 columns]"
      ]
     },
     "execution_count": 129,
     "metadata": {},
     "output_type": "execute_result"
    }
   ],
   "source": [
    "genotypes_df=pd.DataFrame(data=result_df.values, columns=samples_df.iloc[0])\n",
    "genotypes_df.head()"
   ]
  },
  {
   "cell_type": "markdown",
   "id": "4d8b30d6",
   "metadata": {},
   "source": [
    "#### Genotyping data calls: 0 reference allele, 2 alternate allele, 1 het, -2 consider as missing\n",
    "\n"
   ]
  },
  {
   "cell_type": "code",
   "execution_count": 132,
   "id": "5b234afa",
   "metadata": {},
   "outputs": [
    {
     "data": {
      "text/plain": [
       " 0    14761\n",
       " 2     4745\n",
       " 1      345\n",
       "-2      236\n",
       "Name: 1, dtype: int64"
      ]
     },
     "execution_count": 132,
     "metadata": {},
     "output_type": "execute_result"
    }
   ],
   "source": [
    "# count unique values of row\n",
    "genotypes_df.iloc[1,:].value_counts()"
   ]
  },
  {
   "cell_type": "code",
   "execution_count": null,
   "id": "23241435",
   "metadata": {},
   "outputs": [],
   "source": []
  },
  {
   "cell_type": "code",
   "execution_count": null,
   "id": "189d42c3",
   "metadata": {},
   "outputs": [],
   "source": []
  },
  {
   "cell_type": "markdown",
   "id": "b67dbd93",
   "metadata": {},
   "source": [
    "# QC genotyping data"
   ]
  },
  {
   "cell_type": "markdown",
   "id": "de23b080",
   "metadata": {},
   "source": [
    "### Do value_counts on each row, make some columns whose values are counts of each value"
   ]
  },
  {
   "cell_type": "code",
   "execution_count": 162,
   "id": "4bf690b0",
   "metadata": {},
   "outputs": [
    {
     "data": {
      "text/html": [
       "<div>\n",
       "<style scoped>\n",
       "    .dataframe tbody tr th:only-of-type {\n",
       "        vertical-align: middle;\n",
       "    }\n",
       "\n",
       "    .dataframe tbody tr th {\n",
       "        vertical-align: top;\n",
       "    }\n",
       "\n",
       "    .dataframe thead th {\n",
       "        text-align: right;\n",
       "    }\n",
       "</style>\n",
       "<table border=\"1\" class=\"dataframe\">\n",
       "  <thead>\n",
       "    <tr style=\"text-align: right;\">\n",
       "      <th></th>\n",
       "      <th>-2</th>\n",
       "      <th>0</th>\n",
       "      <th>1</th>\n",
       "      <th>2</th>\n",
       "    </tr>\n",
       "  </thead>\n",
       "  <tbody>\n",
       "    <tr>\n",
       "      <th>0</th>\n",
       "      <td>79.0</td>\n",
       "      <td>14963.0</td>\n",
       "      <td>187.0</td>\n",
       "      <td>4858.0</td>\n",
       "    </tr>\n",
       "    <tr>\n",
       "      <th>1</th>\n",
       "      <td>236.0</td>\n",
       "      <td>14761.0</td>\n",
       "      <td>345.0</td>\n",
       "      <td>4745.0</td>\n",
       "    </tr>\n",
       "    <tr>\n",
       "      <th>2</th>\n",
       "      <td>141.0</td>\n",
       "      <td>13915.0</td>\n",
       "      <td>144.0</td>\n",
       "      <td>5887.0</td>\n",
       "    </tr>\n",
       "    <tr>\n",
       "      <th>3</th>\n",
       "      <td>155.0</td>\n",
       "      <td>18053.0</td>\n",
       "      <td>54.0</td>\n",
       "      <td>1825.0</td>\n",
       "    </tr>\n",
       "    <tr>\n",
       "      <th>4</th>\n",
       "      <td>59.0</td>\n",
       "      <td>17246.0</td>\n",
       "      <td>174.0</td>\n",
       "      <td>2608.0</td>\n",
       "    </tr>\n",
       "  </tbody>\n",
       "</table>\n",
       "</div>"
      ],
      "text/plain": [
       "      -2        0      1       2\n",
       "0   79.0  14963.0  187.0  4858.0\n",
       "1  236.0  14761.0  345.0  4745.0\n",
       "2  141.0  13915.0  144.0  5887.0\n",
       "3  155.0  18053.0   54.0  1825.0\n",
       "4   59.0  17246.0  174.0  2608.0"
      ]
     },
     "execution_count": 162,
     "metadata": {},
     "output_type": "execute_result"
    }
   ],
   "source": [
    "counts=genotypes_df.apply(pd.Series.value_counts, axis=1).fillna(0)\n",
    "counts.head()"
   ]
  },
  {
   "cell_type": "code",
   "execution_count": 161,
   "id": "258f1847",
   "metadata": {},
   "outputs": [
    {
     "ename": "AttributeError",
     "evalue": "'DataFrame' object has no attribute 'dtype'",
     "output_type": "error",
     "traceback": [
      "\u001b[1;31m---------------------------------------------------------------------------\u001b[0m",
      "\u001b[1;31mAttributeError\u001b[0m                            Traceback (most recent call last)",
      "\u001b[1;32m~\\AppData\\Local\\Temp/ipykernel_18280/3080273340.py\u001b[0m in \u001b[0;36m<module>\u001b[1;34m\u001b[0m\n\u001b[1;32m----> 1\u001b[1;33m \u001b[0mcounts\u001b[0m\u001b[1;33m.\u001b[0m\u001b[0mdtype\u001b[0m\u001b[1;33m(\u001b[0m\u001b[1;33m)\u001b[0m\u001b[1;33m\u001b[0m\u001b[1;33m\u001b[0m\u001b[0m\n\u001b[0m",
      "\u001b[1;32m~\\AppData\\Local\\Continuum\\anaconda3\\lib\\site-packages\\pandas\\core\\generic.py\u001b[0m in \u001b[0;36m__getattr__\u001b[1;34m(self, name)\u001b[0m\n\u001b[0;32m   5485\u001b[0m         ):\n\u001b[0;32m   5486\u001b[0m             \u001b[1;32mreturn\u001b[0m \u001b[0mself\u001b[0m\u001b[1;33m[\u001b[0m\u001b[0mname\u001b[0m\u001b[1;33m]\u001b[0m\u001b[1;33m\u001b[0m\u001b[1;33m\u001b[0m\u001b[0m\n\u001b[1;32m-> 5487\u001b[1;33m         \u001b[1;32mreturn\u001b[0m \u001b[0mobject\u001b[0m\u001b[1;33m.\u001b[0m\u001b[0m__getattribute__\u001b[0m\u001b[1;33m(\u001b[0m\u001b[0mself\u001b[0m\u001b[1;33m,\u001b[0m \u001b[0mname\u001b[0m\u001b[1;33m)\u001b[0m\u001b[1;33m\u001b[0m\u001b[1;33m\u001b[0m\u001b[0m\n\u001b[0m\u001b[0;32m   5488\u001b[0m \u001b[1;33m\u001b[0m\u001b[0m\n\u001b[0;32m   5489\u001b[0m     \u001b[1;32mdef\u001b[0m \u001b[0m__setattr__\u001b[0m\u001b[1;33m(\u001b[0m\u001b[0mself\u001b[0m\u001b[1;33m,\u001b[0m \u001b[0mname\u001b[0m\u001b[1;33m:\u001b[0m \u001b[0mstr\u001b[0m\u001b[1;33m,\u001b[0m \u001b[0mvalue\u001b[0m\u001b[1;33m)\u001b[0m \u001b[1;33m->\u001b[0m \u001b[1;32mNone\u001b[0m\u001b[1;33m:\u001b[0m\u001b[1;33m\u001b[0m\u001b[1;33m\u001b[0m\u001b[0m\n",
      "\u001b[1;31mAttributeError\u001b[0m: 'DataFrame' object has no attribute 'dtype'"
     ]
    }
   ],
   "source": [
    "#counts=counts.rename(columns=data.rename(columns={'gdp':'log(gdp)'}, inplace=True))"
   ]
  },
  {
   "cell_type": "code",
   "execution_count": 158,
   "id": "db35de51",
   "metadata": {},
   "outputs": [
    {
     "data": {
      "text/html": [
       "<div>\n",
       "<style scoped>\n",
       "    .dataframe tbody tr th:only-of-type {\n",
       "        vertical-align: middle;\n",
       "    }\n",
       "\n",
       "    .dataframe tbody tr th {\n",
       "        vertical-align: top;\n",
       "    }\n",
       "\n",
       "    .dataframe thead th {\n",
       "        text-align: right;\n",
       "    }\n",
       "</style>\n",
       "<table border=\"1\" class=\"dataframe\">\n",
       "  <thead>\n",
       "    <tr style=\"text-align: right;\">\n",
       "      <th></th>\n",
       "      <th>-2</th>\n",
       "      <th>0</th>\n",
       "      <th>1</th>\n",
       "      <th>2</th>\n",
       "    </tr>\n",
       "  </thead>\n",
       "  <tbody>\n",
       "    <tr>\n",
       "      <th>0</th>\n",
       "      <td>79.0</td>\n",
       "      <td>14963.0</td>\n",
       "      <td>187.0</td>\n",
       "      <td>4858.0</td>\n",
       "    </tr>\n",
       "    <tr>\n",
       "      <th>1</th>\n",
       "      <td>236.0</td>\n",
       "      <td>14761.0</td>\n",
       "      <td>345.0</td>\n",
       "      <td>4745.0</td>\n",
       "    </tr>\n",
       "    <tr>\n",
       "      <th>2</th>\n",
       "      <td>141.0</td>\n",
       "      <td>13915.0</td>\n",
       "      <td>144.0</td>\n",
       "      <td>5887.0</td>\n",
       "    </tr>\n",
       "    <tr>\n",
       "      <th>3</th>\n",
       "      <td>155.0</td>\n",
       "      <td>18053.0</td>\n",
       "      <td>54.0</td>\n",
       "      <td>1825.0</td>\n",
       "    </tr>\n",
       "    <tr>\n",
       "      <th>4</th>\n",
       "      <td>59.0</td>\n",
       "      <td>17246.0</td>\n",
       "      <td>174.0</td>\n",
       "      <td>2608.0</td>\n",
       "    </tr>\n",
       "  </tbody>\n",
       "</table>\n",
       "</div>"
      ],
      "text/plain": [
       "      -2        0      1       2\n",
       "0   79.0  14963.0  187.0  4858.0\n",
       "1  236.0  14761.0  345.0  4745.0\n",
       "2  141.0  13915.0  144.0  5887.0\n",
       "3  155.0  18053.0   54.0  1825.0\n",
       "4   59.0  17246.0  174.0  2608.0"
      ]
     },
     "execution_count": 158,
     "metadata": {},
     "output_type": "execute_result"
    }
   ],
   "source": [
    "#counts_df=pd.DataFrame(counts, columns=['Missing', 'Ref_allele', 'Het', 'Alt_allele'])\n",
    "#counts.head()"
   ]
  },
  {
   "cell_type": "code",
   "execution_count": 159,
   "id": "e07bf3bb",
   "metadata": {},
   "outputs": [
    {
     "data": {
      "text/plain": [
       "Index(['Missing', 'Ref_allele', 'Het', 'Alt_allele'], dtype='object')"
      ]
     },
     "execution_count": 159,
     "metadata": {},
     "output_type": "execute_result"
    }
   ],
   "source": [
    "counts_df.columns"
   ]
  },
  {
   "cell_type": "code",
   "execution_count": 160,
   "id": "298b8d55",
   "metadata": {},
   "outputs": [
    {
     "data": {
      "text/html": [
       "<div>\n",
       "<style scoped>\n",
       "    .dataframe tbody tr th:only-of-type {\n",
       "        vertical-align: middle;\n",
       "    }\n",
       "\n",
       "    .dataframe tbody tr th {\n",
       "        vertical-align: top;\n",
       "    }\n",
       "\n",
       "    .dataframe thead th {\n",
       "        text-align: right;\n",
       "    }\n",
       "</style>\n",
       "<table border=\"1\" class=\"dataframe\">\n",
       "  <thead>\n",
       "    <tr style=\"text-align: right;\">\n",
       "      <th></th>\n",
       "      <th>Missing</th>\n",
       "      <th>Ref_allele</th>\n",
       "      <th>Het</th>\n",
       "      <th>Alt_allele</th>\n",
       "    </tr>\n",
       "  </thead>\n",
       "  <tbody>\n",
       "    <tr>\n",
       "      <th>0</th>\n",
       "      <td>NaN</td>\n",
       "      <td>NaN</td>\n",
       "      <td>NaN</td>\n",
       "      <td>NaN</td>\n",
       "    </tr>\n",
       "    <tr>\n",
       "      <th>1</th>\n",
       "      <td>NaN</td>\n",
       "      <td>NaN</td>\n",
       "      <td>NaN</td>\n",
       "      <td>NaN</td>\n",
       "    </tr>\n",
       "    <tr>\n",
       "      <th>2</th>\n",
       "      <td>NaN</td>\n",
       "      <td>NaN</td>\n",
       "      <td>NaN</td>\n",
       "      <td>NaN</td>\n",
       "    </tr>\n",
       "    <tr>\n",
       "      <th>3</th>\n",
       "      <td>NaN</td>\n",
       "      <td>NaN</td>\n",
       "      <td>NaN</td>\n",
       "      <td>NaN</td>\n",
       "    </tr>\n",
       "    <tr>\n",
       "      <th>4</th>\n",
       "      <td>NaN</td>\n",
       "      <td>NaN</td>\n",
       "      <td>NaN</td>\n",
       "      <td>NaN</td>\n",
       "    </tr>\n",
       "  </tbody>\n",
       "</table>\n",
       "</div>"
      ],
      "text/plain": [
       "   Missing  Ref_allele  Het  Alt_allele\n",
       "0      NaN         NaN  NaN         NaN\n",
       "1      NaN         NaN  NaN         NaN\n",
       "2      NaN         NaN  NaN         NaN\n",
       "3      NaN         NaN  NaN         NaN\n",
       "4      NaN         NaN  NaN         NaN"
      ]
     },
     "execution_count": 160,
     "metadata": {},
     "output_type": "execute_result"
    }
   ],
   "source": [
    "counts_df.head()"
   ]
  },
  {
   "cell_type": "code",
   "execution_count": 107,
   "id": "f42ae2f2",
   "metadata": {},
   "outputs": [],
   "source": []
  },
  {
   "cell_type": "code",
   "execution_count": null,
   "id": "91988d92",
   "metadata": {},
   "outputs": [],
   "source": [
    "So far, I have samples as columns and SNPs as rows, then add other features. "
   ]
  },
  {
   "cell_type": "markdown",
   "id": "08efb29c",
   "metadata": {},
   "source": [
    "# Bring Minor allele frequency dataset"
   ]
  },
  {
   "cell_type": "code",
   "execution_count": 115,
   "id": "1e7522d5",
   "metadata": {},
   "outputs": [
    {
     "data": {
      "text/html": [
       "<div>\n",
       "<style scoped>\n",
       "    .dataframe tbody tr th:only-of-type {\n",
       "        vertical-align: middle;\n",
       "    }\n",
       "\n",
       "    .dataframe tbody tr th {\n",
       "        vertical-align: top;\n",
       "    }\n",
       "\n",
       "    .dataframe thead th {\n",
       "        text-align: right;\n",
       "    }\n",
       "</style>\n",
       "<table border=\"1\" class=\"dataframe\">\n",
       "  <thead>\n",
       "    <tr style=\"text-align: right;\">\n",
       "      <th></th>\n",
       "      <th>snp_name</th>\n",
       "      <th>dbSNP_ID</th>\n",
       "      <th>maf_type</th>\n",
       "      <th>maf_value</th>\n",
       "      <th>minor_allele</th>\n",
       "    </tr>\n",
       "  </thead>\n",
       "  <tbody>\n",
       "    <tr>\n",
       "      <th>0</th>\n",
       "      <td>BARC_1.01_Gm01_2033_G_A</td>\n",
       "      <td>ss715578672</td>\n",
       "      <td>MAF in landrace</td>\n",
       "      <td>nd</td>\n",
       "      <td>nd</td>\n",
       "    </tr>\n",
       "    <tr>\n",
       "      <th>1</th>\n",
       "      <td>BARC_1.01_Gm01_2033_G_A</td>\n",
       "      <td>ss715578672</td>\n",
       "      <td>MAF in elite</td>\n",
       "      <td>nd</td>\n",
       "      <td>nd</td>\n",
       "    </tr>\n",
       "    <tr>\n",
       "      <th>2</th>\n",
       "      <td>BARC_1.01_Gm01_2033_G_A</td>\n",
       "      <td>ss715578672</td>\n",
       "      <td>MAF in G. max</td>\n",
       "      <td>nd</td>\n",
       "      <td>nd</td>\n",
       "    </tr>\n",
       "    <tr>\n",
       "      <th>3</th>\n",
       "      <td>BARC_1.01_Gm01_2033_G_A</td>\n",
       "      <td>ss715578672</td>\n",
       "      <td>MAF in G. soja</td>\n",
       "      <td>nd</td>\n",
       "      <td>nd</td>\n",
       "    </tr>\n",
       "    <tr>\n",
       "      <th>4</th>\n",
       "      <td>BARC_1.01_Gm01_2033_G_A</td>\n",
       "      <td>ss715578672</td>\n",
       "      <td>MAF in landrace, elite &amp; G. soja</td>\n",
       "      <td>nd</td>\n",
       "      <td>nd</td>\n",
       "    </tr>\n",
       "  </tbody>\n",
       "</table>\n",
       "</div>"
      ],
      "text/plain": [
       "                  snp_name     dbSNP_ID                          maf_type  \\\n",
       "0  BARC_1.01_Gm01_2033_G_A  ss715578672                   MAF in landrace   \n",
       "1  BARC_1.01_Gm01_2033_G_A  ss715578672                      MAF in elite   \n",
       "2  BARC_1.01_Gm01_2033_G_A  ss715578672                     MAF in G. max   \n",
       "3  BARC_1.01_Gm01_2033_G_A  ss715578672                    MAF in G. soja   \n",
       "4  BARC_1.01_Gm01_2033_G_A  ss715578672  MAF in landrace, elite & G. soja   \n",
       "\n",
       "  maf_value minor_allele  \n",
       "0        nd           nd  \n",
       "1        nd           nd  \n",
       "2        nd           nd  \n",
       "3        nd           nd  \n",
       "4        nd           nd  "
      ]
     },
     "execution_count": 115,
     "metadata": {},
     "output_type": "execute_result"
    }
   ],
   "source": [
    "MAF=pd.read_csv('MAF_soy50K_SNPs.csv')\n",
    "MAF.drop('maf_value.1', axis=1, inplace=True)\n",
    "MAF=MAF.iloc[:,1:]\n",
    "MAF.head()"
   ]
  },
  {
   "cell_type": "code",
   "execution_count": 118,
   "id": "62da390a",
   "metadata": {},
   "outputs": [
    {
     "data": {
      "text/plain": [
       "Index(['SNP_Name', 'ID', 'MAF_type', 'MAF_value', 'Minor_Allele'], dtype='object')"
      ]
     },
     "execution_count": 118,
     "metadata": {},
     "output_type": "execute_result"
    }
   ],
   "source": [
    "# Rename columns names\n",
    "MAF.rename(columns={'dbSNP_ID':'ID', 'snp_name':'SNP_Name', 'maf_type':'MAF_type','maf_value':'MAF_value', 'minor_allele':'Minor_Allele'}, inplace=True)\n",
    "MAF.columns"
   ]
  },
  {
   "cell_type": "code",
   "execution_count": 119,
   "id": "0894f90d",
   "metadata": {},
   "outputs": [
    {
     "data": {
      "text/html": [
       "<div>\n",
       "<style scoped>\n",
       "    .dataframe tbody tr th:only-of-type {\n",
       "        vertical-align: middle;\n",
       "    }\n",
       "\n",
       "    .dataframe tbody tr th {\n",
       "        vertical-align: top;\n",
       "    }\n",
       "\n",
       "    .dataframe thead th {\n",
       "        text-align: right;\n",
       "    }\n",
       "</style>\n",
       "<table border=\"1\" class=\"dataframe\">\n",
       "  <thead>\n",
       "    <tr style=\"text-align: right;\">\n",
       "      <th></th>\n",
       "      <th>ID</th>\n",
       "      <th>SNP_Name</th>\n",
       "      <th>MAF_type</th>\n",
       "      <th>MAF_value</th>\n",
       "      <th>Minor_Allele</th>\n",
       "    </tr>\n",
       "  </thead>\n",
       "  <tbody>\n",
       "    <tr>\n",
       "      <th>0</th>\n",
       "      <td>ss715578672</td>\n",
       "      <td>BARC_1.01_Gm01_2033_G_A</td>\n",
       "      <td>MAF in landrace</td>\n",
       "      <td>nd</td>\n",
       "      <td>nd</td>\n",
       "    </tr>\n",
       "    <tr>\n",
       "      <th>1</th>\n",
       "      <td>ss715578672</td>\n",
       "      <td>BARC_1.01_Gm01_2033_G_A</td>\n",
       "      <td>MAF in elite</td>\n",
       "      <td>nd</td>\n",
       "      <td>nd</td>\n",
       "    </tr>\n",
       "    <tr>\n",
       "      <th>2</th>\n",
       "      <td>ss715578672</td>\n",
       "      <td>BARC_1.01_Gm01_2033_G_A</td>\n",
       "      <td>MAF in G. max</td>\n",
       "      <td>nd</td>\n",
       "      <td>nd</td>\n",
       "    </tr>\n",
       "    <tr>\n",
       "      <th>3</th>\n",
       "      <td>ss715578672</td>\n",
       "      <td>BARC_1.01_Gm01_2033_G_A</td>\n",
       "      <td>MAF in G. soja</td>\n",
       "      <td>nd</td>\n",
       "      <td>nd</td>\n",
       "    </tr>\n",
       "    <tr>\n",
       "      <th>4</th>\n",
       "      <td>ss715578672</td>\n",
       "      <td>BARC_1.01_Gm01_2033_G_A</td>\n",
       "      <td>MAF in landrace, elite &amp; G. soja</td>\n",
       "      <td>nd</td>\n",
       "      <td>nd</td>\n",
       "    </tr>\n",
       "  </tbody>\n",
       "</table>\n",
       "</div>"
      ],
      "text/plain": [
       "            ID                 SNP_Name                          MAF_type  \\\n",
       "0  ss715578672  BARC_1.01_Gm01_2033_G_A                   MAF in landrace   \n",
       "1  ss715578672  BARC_1.01_Gm01_2033_G_A                      MAF in elite   \n",
       "2  ss715578672  BARC_1.01_Gm01_2033_G_A                     MAF in G. max   \n",
       "3  ss715578672  BARC_1.01_Gm01_2033_G_A                    MAF in G. soja   \n",
       "4  ss715578672  BARC_1.01_Gm01_2033_G_A  MAF in landrace, elite & G. soja   \n",
       "\n",
       "  MAF_value Minor_Allele  \n",
       "0        nd           nd  \n",
       "1        nd           nd  \n",
       "2        nd           nd  \n",
       "3        nd           nd  \n",
       "4        nd           nd  "
      ]
     },
     "execution_count": 119,
     "metadata": {},
     "output_type": "execute_result"
    }
   ],
   "source": [
    "MAF=MAF[['ID','SNP_Name', 'MAF_type', 'MAF_value', 'Minor_Allele']]\n",
    "MAF.head()"
   ]
  },
  {
   "cell_type": "markdown",
   "id": "52b917db",
   "metadata": {},
   "source": [
    "# Combine df1_data and MAF dataframes"
   ]
  },
  {
   "cell_type": "code",
   "execution_count": 120,
   "id": "f613d590",
   "metadata": {},
   "outputs": [
    {
     "data": {
      "text/html": [
       "<div>\n",
       "<style scoped>\n",
       "    .dataframe tbody tr th:only-of-type {\n",
       "        vertical-align: middle;\n",
       "    }\n",
       "\n",
       "    .dataframe tbody tr th {\n",
       "        vertical-align: top;\n",
       "    }\n",
       "\n",
       "    .dataframe thead th {\n",
       "        text-align: right;\n",
       "    }\n",
       "</style>\n",
       "<table border=\"1\" class=\"dataframe\">\n",
       "  <thead>\n",
       "    <tr style=\"text-align: right;\">\n",
       "      <th></th>\n",
       "      <th>ID</th>\n",
       "      <th>CHROM</th>\n",
       "      <th>POS</th>\n",
       "      <th>REF</th>\n",
       "      <th>ALT_1</th>\n",
       "      <th>SNP_Name</th>\n",
       "      <th>MAF_type</th>\n",
       "      <th>MAF_value</th>\n",
       "      <th>Minor_Allele</th>\n",
       "    </tr>\n",
       "  </thead>\n",
       "  <tbody>\n",
       "    <tr>\n",
       "      <th>0</th>\n",
       "      <td>ss715578788</td>\n",
       "      <td>Chr01</td>\n",
       "      <td>24952</td>\n",
       "      <td>A</td>\n",
       "      <td>G</td>\n",
       "      <td>BARC_1.01_Gm01_24939_A_G</td>\n",
       "      <td>MAF in landrace</td>\n",
       "      <td>0.335</td>\n",
       "      <td>G</td>\n",
       "    </tr>\n",
       "    <tr>\n",
       "      <th>1</th>\n",
       "      <td>ss715578788</td>\n",
       "      <td>Chr01</td>\n",
       "      <td>24952</td>\n",
       "      <td>A</td>\n",
       "      <td>G</td>\n",
       "      <td>BARC_1.01_Gm01_24939_A_G</td>\n",
       "      <td>MAF in elite</td>\n",
       "      <td>0.078</td>\n",
       "      <td>G</td>\n",
       "    </tr>\n",
       "    <tr>\n",
       "      <th>2</th>\n",
       "      <td>ss715578788</td>\n",
       "      <td>Chr01</td>\n",
       "      <td>24952</td>\n",
       "      <td>A</td>\n",
       "      <td>G</td>\n",
       "      <td>BARC_1.01_Gm01_24939_A_G</td>\n",
       "      <td>MAF in G. max</td>\n",
       "      <td>0.199</td>\n",
       "      <td>G</td>\n",
       "    </tr>\n",
       "    <tr>\n",
       "      <th>3</th>\n",
       "      <td>ss715578788</td>\n",
       "      <td>Chr01</td>\n",
       "      <td>24952</td>\n",
       "      <td>A</td>\n",
       "      <td>G</td>\n",
       "      <td>BARC_1.01_Gm01_24939_A_G</td>\n",
       "      <td>MAF in G. soja</td>\n",
       "      <td>0.167</td>\n",
       "      <td>G</td>\n",
       "    </tr>\n",
       "    <tr>\n",
       "      <th>4</th>\n",
       "      <td>ss715578788</td>\n",
       "      <td>Chr01</td>\n",
       "      <td>24952</td>\n",
       "      <td>A</td>\n",
       "      <td>G</td>\n",
       "      <td>BARC_1.01_Gm01_24939_A_G</td>\n",
       "      <td>MAF in landrace, elite &amp; G. soja</td>\n",
       "      <td>0.196</td>\n",
       "      <td>G</td>\n",
       "    </tr>\n",
       "  </tbody>\n",
       "</table>\n",
       "</div>"
      ],
      "text/plain": [
       "            ID  CHROM    POS REF ALT_1                  SNP_Name  \\\n",
       "0  ss715578788  Chr01  24952   A     G  BARC_1.01_Gm01_24939_A_G   \n",
       "1  ss715578788  Chr01  24952   A     G  BARC_1.01_Gm01_24939_A_G   \n",
       "2  ss715578788  Chr01  24952   A     G  BARC_1.01_Gm01_24939_A_G   \n",
       "3  ss715578788  Chr01  24952   A     G  BARC_1.01_Gm01_24939_A_G   \n",
       "4  ss715578788  Chr01  24952   A     G  BARC_1.01_Gm01_24939_A_G   \n",
       "\n",
       "                           MAF_type MAF_value Minor_Allele  \n",
       "0                   MAF in landrace     0.335            G  \n",
       "1                      MAF in elite     0.078            G  \n",
       "2                     MAF in G. max     0.199            G  \n",
       "3                    MAF in G. soja     0.167            G  \n",
       "4  MAF in landrace, elite & G. soja     0.196            G  "
      ]
     },
     "execution_count": 120,
     "metadata": {},
     "output_type": "execute_result"
    }
   ],
   "source": [
    "merge=df1_data.merge(MAF, how='inner', left_on='ID', right_on='ID')\n",
    "merge.head()"
   ]
  },
  {
   "cell_type": "code",
   "execution_count": null,
   "id": "2903668a",
   "metadata": {},
   "outputs": [],
   "source": [
    "# concatenate genotypes_df, merge dataframes as final dataset............\n",
    "dataset=pd.concat([df1_data, genotypes_df])"
   ]
  },
  {
   "cell_type": "code",
   "execution_count": null,
   "id": "f5710e31",
   "metadata": {},
   "outputs": [],
   "source": []
  },
  {
   "cell_type": "code",
   "execution_count": null,
   "id": "71f4fb28",
   "metadata": {},
   "outputs": [],
   "source": []
  },
  {
   "cell_type": "code",
   "execution_count": null,
   "id": "c32db3bd",
   "metadata": {},
   "outputs": [],
   "source": []
  },
  {
   "cell_type": "code",
   "execution_count": null,
   "id": "689b1c46",
   "metadata": {},
   "outputs": [],
   "source": []
  },
  {
   "cell_type": "code",
   "execution_count": null,
   "id": "38dbbeb0",
   "metadata": {},
   "outputs": [],
   "source": []
  },
  {
   "cell_type": "code",
   "execution_count": null,
   "id": "4b8df6fa",
   "metadata": {},
   "outputs": [],
   "source": []
  },
  {
   "cell_type": "code",
   "execution_count": null,
   "id": "76d17384",
   "metadata": {},
   "outputs": [],
   "source": []
  },
  {
   "cell_type": "code",
   "execution_count": null,
   "id": "257b997b",
   "metadata": {},
   "outputs": [],
   "source": []
  },
  {
   "cell_type": "markdown",
   "id": "4d69babd",
   "metadata": {},
   "source": [
    "# Convert genotypes dataframe to 2D array"
   ]
  },
  {
   "cell_type": "code",
   "execution_count": 28,
   "id": "632f401a",
   "metadata": {},
   "outputs": [
    {
     "data": {
      "text/plain": [
       "array([[ 2,  0, -2, ...,  0,  0,  1],\n",
       "       [ 2,  0, -2, ...,  0,  0,  1],\n",
       "       [ 2,  0,  1, ...,  0,  0,  1],\n",
       "       ...,\n",
       "       [ 0,  0,  0, ...,  0,  2, -2],\n",
       "       [ 0,  2,  2, ...,  2,  1,  2],\n",
       "       [ 0,  0,  0, ...,  0, -2,  0]], dtype=int8)"
      ]
     },
     "execution_count": 28,
     "metadata": {},
     "output_type": "execute_result"
    }
   ],
   "source": [
    "genotype_array=result_df.values\n",
    "genotype_array"
   ]
  },
  {
   "cell_type": "code",
   "execution_count": 30,
   "id": "2e405dc2",
   "metadata": {},
   "outputs": [
    {
     "name": "stdout",
     "output_type": "stream",
     "text": [
      "Genotypes array: (42195, 20087)\n"
     ]
    }
   ],
   "source": [
    "print('Genotypes array:',genotype_array.shape)"
   ]
  },
  {
   "cell_type": "code",
   "execution_count": 33,
   "id": "c5d3f1ae",
   "metadata": {},
   "outputs": [
    {
     "data": {
      "text/plain": [
       "<map at 0x1d147cbb2c8>"
      ]
     },
     "execution_count": 33,
     "metadata": {},
     "output_type": "execute_result"
    }
   ],
   "source": [
    "new_hap_array=map(sum, haps)\n",
    "new_hap_array"
   ]
  },
  {
   "cell_type": "code",
   "execution_count": 12,
   "id": "2c34f2fa",
   "metadata": {},
   "outputs": [
    {
     "name": "stdout",
     "output_type": "stream",
     "text": [
      "Alt_allele: ['G' 'T' 'G' ... 'T' 'T' 'A']\n"
     ]
    }
   ],
   "source": [
    "print('Alt_allele:',callset['variants/ALT'][:,0])"
   ]
  },
  {
   "cell_type": "markdown",
   "id": "70b5d6b6",
   "metadata": {},
   "source": [
    "# genotype array from VCF file\n",
    "\n",
    "-1 to indicate a missing value; 0=reference, 1=alternate allele"
   ]
  },
  {
   "cell_type": "code",
   "execution_count": 10,
   "id": "ad6abb5a",
   "metadata": {},
   "outputs": [
    {
     "data": {
      "text/plain": [
       "array([[[ 1,  1],\n",
       "        [ 0,  0],\n",
       "        [-1, -1],\n",
       "        ...,\n",
       "        [ 0,  0],\n",
       "        [ 0,  0],\n",
       "        [ 0,  1]]], dtype=int8)"
      ]
     },
     "execution_count": 10,
     "metadata": {},
     "output_type": "execute_result"
    }
   ],
   "source": [
    "geno=callset['calldata/GT'] \n",
    "geno[:1]"
   ]
  },
  {
   "cell_type": "code",
   "execution_count": 11,
   "id": "f0f3c0ee",
   "metadata": {},
   "outputs": [
    {
     "data": {
      "text/html": [
       "<div class=\"allel allel-DisplayAs2D\"><span>&lt;GenotypeArray shape=(42195, 20087, 2) dtype=int8&gt;</span><table><thead><tr><th></th><th style=\"text-align: center\">0</th><th style=\"text-align: center\">1</th><th style=\"text-align: center\">2</th><th style=\"text-align: center\">3</th><th style=\"text-align: center\">4</th><th style=\"text-align: center\">...</th><th style=\"text-align: center\">20082</th><th style=\"text-align: center\">20083</th><th style=\"text-align: center\">20084</th><th style=\"text-align: center\">20085</th><th style=\"text-align: center\">20086</th></tr></thead><tbody><tr><th style=\"text-align: center; background-color: white; border-right: 1px solid black; \">0</th><td style=\"text-align: center\">1/1</td><td style=\"text-align: center\">0/0</td><td style=\"text-align: center\">./.</td><td style=\"text-align: center\">0/0</td><td style=\"text-align: center\">0/0</td><td style=\"text-align: center\">...</td><td style=\"text-align: center\">0/0</td><td style=\"text-align: center\">0/0</td><td style=\"text-align: center\">0/0</td><td style=\"text-align: center\">0/0</td><td style=\"text-align: center\">0/1</td></tr><tr><th style=\"text-align: center; background-color: white; border-right: 1px solid black; \">1</th><td style=\"text-align: center\">1/1</td><td style=\"text-align: center\">0/0</td><td style=\"text-align: center\">./.</td><td style=\"text-align: center\">0/0</td><td style=\"text-align: center\">0/0</td><td style=\"text-align: center\">...</td><td style=\"text-align: center\">0/0</td><td style=\"text-align: center\">0/0</td><td style=\"text-align: center\">0/0</td><td style=\"text-align: center\">0/0</td><td style=\"text-align: center\">0/1</td></tr><tr><th style=\"text-align: center; background-color: white; border-right: 1px solid black; \">2</th><td style=\"text-align: center\">1/1</td><td style=\"text-align: center\">0/0</td><td style=\"text-align: center\">0/1</td><td style=\"text-align: center\">0/0</td><td style=\"text-align: center\">0/0</td><td style=\"text-align: center\">...</td><td style=\"text-align: center\">0/0</td><td style=\"text-align: center\">0/0</td><td style=\"text-align: center\">0/0</td><td style=\"text-align: center\">0/0</td><td style=\"text-align: center\">0/1</td></tr><tr><th style=\"text-align: center; background-color: white; border-right: 1px solid black; \">...</th><td style=\"text-align: center\" colspan=\"12\">...</td></tr><tr><th style=\"text-align: center; background-color: white; border-right: 1px solid black; \">42192</th><td style=\"text-align: center\">0/0</td><td style=\"text-align: center\">0/0</td><td style=\"text-align: center\">0/0</td><td style=\"text-align: center\">0/0</td><td style=\"text-align: center\">1/1</td><td style=\"text-align: center\">...</td><td style=\"text-align: center\">0/0</td><td style=\"text-align: center\">0/0</td><td style=\"text-align: center\">0/0</td><td style=\"text-align: center\">1/1</td><td style=\"text-align: center\">./.</td></tr><tr><th style=\"text-align: center; background-color: white; border-right: 1px solid black; \">42193</th><td style=\"text-align: center\">0/0</td><td style=\"text-align: center\">1/1</td><td style=\"text-align: center\">1/1</td><td style=\"text-align: center\">1/1</td><td style=\"text-align: center\">1/1</td><td style=\"text-align: center\">...</td><td style=\"text-align: center\">1/1</td><td style=\"text-align: center\">0/0</td><td style=\"text-align: center\">1/1</td><td style=\"text-align: center\">0/1</td><td style=\"text-align: center\">1/1</td></tr><tr><th style=\"text-align: center; background-color: white; border-right: 1px solid black; \">42194</th><td style=\"text-align: center\">0/0</td><td style=\"text-align: center\">0/0</td><td style=\"text-align: center\">0/0</td><td style=\"text-align: center\">0/0</td><td style=\"text-align: center\">1/1</td><td style=\"text-align: center\">...</td><td style=\"text-align: center\">0/0</td><td style=\"text-align: center\">0/0</td><td style=\"text-align: center\">0/0</td><td style=\"text-align: center\">./.</td><td style=\"text-align: center\">0/0</td></tr></tbody></table></div>"
      ],
      "text/plain": [
       "<GenotypeArray shape=(42195, 20087, 2) dtype=int8>\n",
       "1/1 0/0 ./. 0/0 0/0 ... 0/0 0/0 0/0 0/0 0/1\n",
       "1/1 0/0 ./. 0/0 0/0 ... 0/0 0/0 0/0 0/0 0/1\n",
       "1/1 0/0 0/1 0/0 0/0 ... 0/0 0/0 0/0 0/0 0/1\n",
       "...\n",
       "0/0 0/0 0/0 0/0 1/1 ... 0/0 0/0 0/0 1/1 ./.\n",
       "0/0 1/1 1/1 1/1 1/1 ... 1/1 0/0 1/1 0/1 1/1\n",
       "0/0 0/0 0/0 0/0 1/1 ... 0/0 0/0 0/0 ./. 0/0"
      ]
     },
     "execution_count": 11,
     "metadata": {},
     "output_type": "execute_result"
    }
   ],
   "source": [
    "# Genotype array\n",
    "genotypes=allel.GenotypeArray(geno)\n",
    "genotypes"
   ]
  },
  {
   "cell_type": "markdown",
   "id": "207b5ff2",
   "metadata": {},
   "source": [
    "### Reshape genotype array to view it as haplotypes by dropping the ploidy dimension\n",
    "\n",
    "seems to_haplotypes() generates hapotype arrays with doubled the number of samples (from 20087 to 40174); each value (1/1) is split in to two columns (1 and 1). "
   ]
  },
  {
   "cell_type": "code",
   "execution_count": 12,
   "id": "ff7310ea",
   "metadata": {},
   "outputs": [
    {
     "data": {
      "text/html": [
       "<div class=\"allel allel-DisplayAs2D\"><span>&lt;HaplotypeArray shape=(42195, 40174) dtype=int8&gt;</span><table><thead><tr><th></th><th style=\"text-align: center\">0</th><th style=\"text-align: center\">1</th><th style=\"text-align: center\">2</th><th style=\"text-align: center\">3</th><th style=\"text-align: center\">4</th><th style=\"text-align: center\">...</th><th style=\"text-align: center\">40169</th><th style=\"text-align: center\">40170</th><th style=\"text-align: center\">40171</th><th style=\"text-align: center\">40172</th><th style=\"text-align: center\">40173</th></tr></thead><tbody><tr><th style=\"text-align: center; background-color: white; border-right: 1px solid black; \">0</th><td style=\"text-align: center\">1</td><td style=\"text-align: center\">1</td><td style=\"text-align: center\">0</td><td style=\"text-align: center\">0</td><td style=\"text-align: center\">.</td><td style=\"text-align: center\">...</td><td style=\"text-align: center\">0</td><td style=\"text-align: center\">0</td><td style=\"text-align: center\">0</td><td style=\"text-align: center\">0</td><td style=\"text-align: center\">1</td></tr><tr><th style=\"text-align: center; background-color: white; border-right: 1px solid black; \">1</th><td style=\"text-align: center\">1</td><td style=\"text-align: center\">1</td><td style=\"text-align: center\">0</td><td style=\"text-align: center\">0</td><td style=\"text-align: center\">.</td><td style=\"text-align: center\">...</td><td style=\"text-align: center\">0</td><td style=\"text-align: center\">0</td><td style=\"text-align: center\">0</td><td style=\"text-align: center\">0</td><td style=\"text-align: center\">1</td></tr><tr><th style=\"text-align: center; background-color: white; border-right: 1px solid black; \">2</th><td style=\"text-align: center\">1</td><td style=\"text-align: center\">1</td><td style=\"text-align: center\">0</td><td style=\"text-align: center\">0</td><td style=\"text-align: center\">0</td><td style=\"text-align: center\">...</td><td style=\"text-align: center\">0</td><td style=\"text-align: center\">0</td><td style=\"text-align: center\">0</td><td style=\"text-align: center\">0</td><td style=\"text-align: center\">1</td></tr><tr><th style=\"text-align: center; background-color: white; border-right: 1px solid black; \">...</th><td style=\"text-align: center\" colspan=\"12\">...</td></tr><tr><th style=\"text-align: center; background-color: white; border-right: 1px solid black; \">42192</th><td style=\"text-align: center\">0</td><td style=\"text-align: center\">0</td><td style=\"text-align: center\">0</td><td style=\"text-align: center\">0</td><td style=\"text-align: center\">0</td><td style=\"text-align: center\">...</td><td style=\"text-align: center\">0</td><td style=\"text-align: center\">1</td><td style=\"text-align: center\">1</td><td style=\"text-align: center\">.</td><td style=\"text-align: center\">.</td></tr><tr><th style=\"text-align: center; background-color: white; border-right: 1px solid black; \">42193</th><td style=\"text-align: center\">0</td><td style=\"text-align: center\">0</td><td style=\"text-align: center\">1</td><td style=\"text-align: center\">1</td><td style=\"text-align: center\">1</td><td style=\"text-align: center\">...</td><td style=\"text-align: center\">1</td><td style=\"text-align: center\">0</td><td style=\"text-align: center\">1</td><td style=\"text-align: center\">1</td><td style=\"text-align: center\">1</td></tr><tr><th style=\"text-align: center; background-color: white; border-right: 1px solid black; \">42194</th><td style=\"text-align: center\">0</td><td style=\"text-align: center\">0</td><td style=\"text-align: center\">0</td><td style=\"text-align: center\">0</td><td style=\"text-align: center\">0</td><td style=\"text-align: center\">...</td><td style=\"text-align: center\">0</td><td style=\"text-align: center\">.</td><td style=\"text-align: center\">.</td><td style=\"text-align: center\">0</td><td style=\"text-align: center\">0</td></tr></tbody></table></div>"
      ],
      "text/plain": [
       "<HaplotypeArray shape=(42195, 40174) dtype=int8>\n",
       "1 1 0 0 . ... 0 0 0 0 1\n",
       "1 1 0 0 . ... 0 0 0 0 1\n",
       "1 1 0 0 0 ... 0 0 0 0 1\n",
       "...\n",
       "0 0 0 0 0 ... 0 1 1 . .\n",
       "0 0 1 1 1 ... 1 0 1 1 1\n",
       "0 0 0 0 0 ... 0 . . 0 0"
      ]
     },
     "execution_count": 12,
     "metadata": {},
     "output_type": "execute_result"
    }
   ],
   "source": [
    "haps=genotypes.to_haplotypes() \n",
    "haps"
   ]
  },
  {
   "cell_type": "raw",
   "id": "35bd48cc",
   "metadata": {},
   "source": [
    "Haplotype data is a 2-dimensional numpy array of integers. first dimension corresponds to the variants genotyped, the second dimension corresponds to the haplotypes; 0 is the reference allele, 1 is the first alternate allele, 2 is the second alternate allele, ... and -1 is missing allele call"
   ]
  },
  {
   "cell_type": "code",
   "execution_count": 34,
   "id": "d4cd3ab9",
   "metadata": {},
   "outputs": [
    {
     "data": {
      "text/html": [
       "<div>\n",
       "<style scoped>\n",
       "    .dataframe tbody tr th:only-of-type {\n",
       "        vertical-align: middle;\n",
       "    }\n",
       "\n",
       "    .dataframe tbody tr th {\n",
       "        vertical-align: top;\n",
       "    }\n",
       "\n",
       "    .dataframe thead th {\n",
       "        text-align: right;\n",
       "    }\n",
       "</style>\n",
       "<table border=\"1\" class=\"dataframe\">\n",
       "  <thead>\n",
       "    <tr style=\"text-align: right;\">\n",
       "      <th></th>\n",
       "      <th>0</th>\n",
       "      <th>1</th>\n",
       "      <th>2</th>\n",
       "      <th>3</th>\n",
       "      <th>4</th>\n",
       "      <th>5</th>\n",
       "      <th>6</th>\n",
       "      <th>7</th>\n",
       "      <th>8</th>\n",
       "      <th>9</th>\n",
       "      <th>...</th>\n",
       "      <th>42185</th>\n",
       "      <th>42186</th>\n",
       "      <th>42187</th>\n",
       "      <th>42188</th>\n",
       "      <th>42189</th>\n",
       "      <th>42190</th>\n",
       "      <th>42191</th>\n",
       "      <th>42192</th>\n",
       "      <th>42193</th>\n",
       "      <th>42194</th>\n",
       "    </tr>\n",
       "  </thead>\n",
       "  <tbody>\n",
       "    <tr>\n",
       "      <th>0</th>\n",
       "      <td>1</td>\n",
       "      <td>1</td>\n",
       "      <td>1</td>\n",
       "      <td>0</td>\n",
       "      <td>0</td>\n",
       "      <td>0</td>\n",
       "      <td>1</td>\n",
       "      <td>0</td>\n",
       "      <td>1</td>\n",
       "      <td>1</td>\n",
       "      <td>...</td>\n",
       "      <td>0</td>\n",
       "      <td>0</td>\n",
       "      <td>0</td>\n",
       "      <td>1</td>\n",
       "      <td>1</td>\n",
       "      <td>1</td>\n",
       "      <td>1</td>\n",
       "      <td>0</td>\n",
       "      <td>0</td>\n",
       "      <td>0</td>\n",
       "    </tr>\n",
       "    <tr>\n",
       "      <th>1</th>\n",
       "      <td>1</td>\n",
       "      <td>1</td>\n",
       "      <td>1</td>\n",
       "      <td>0</td>\n",
       "      <td>0</td>\n",
       "      <td>0</td>\n",
       "      <td>1</td>\n",
       "      <td>0</td>\n",
       "      <td>1</td>\n",
       "      <td>1</td>\n",
       "      <td>...</td>\n",
       "      <td>0</td>\n",
       "      <td>0</td>\n",
       "      <td>0</td>\n",
       "      <td>1</td>\n",
       "      <td>1</td>\n",
       "      <td>1</td>\n",
       "      <td>1</td>\n",
       "      <td>0</td>\n",
       "      <td>0</td>\n",
       "      <td>0</td>\n",
       "    </tr>\n",
       "    <tr>\n",
       "      <th>2</th>\n",
       "      <td>0</td>\n",
       "      <td>0</td>\n",
       "      <td>0</td>\n",
       "      <td>0</td>\n",
       "      <td>0</td>\n",
       "      <td>0</td>\n",
       "      <td>0</td>\n",
       "      <td>0</td>\n",
       "      <td>0</td>\n",
       "      <td>0</td>\n",
       "      <td>...</td>\n",
       "      <td>0</td>\n",
       "      <td>0</td>\n",
       "      <td>0</td>\n",
       "      <td>1</td>\n",
       "      <td>0</td>\n",
       "      <td>1</td>\n",
       "      <td>1</td>\n",
       "      <td>0</td>\n",
       "      <td>1</td>\n",
       "      <td>0</td>\n",
       "    </tr>\n",
       "    <tr>\n",
       "      <th>3</th>\n",
       "      <td>0</td>\n",
       "      <td>0</td>\n",
       "      <td>0</td>\n",
       "      <td>0</td>\n",
       "      <td>0</td>\n",
       "      <td>0</td>\n",
       "      <td>0</td>\n",
       "      <td>0</td>\n",
       "      <td>0</td>\n",
       "      <td>0</td>\n",
       "      <td>...</td>\n",
       "      <td>0</td>\n",
       "      <td>0</td>\n",
       "      <td>0</td>\n",
       "      <td>1</td>\n",
       "      <td>0</td>\n",
       "      <td>1</td>\n",
       "      <td>1</td>\n",
       "      <td>0</td>\n",
       "      <td>1</td>\n",
       "      <td>0</td>\n",
       "    </tr>\n",
       "    <tr>\n",
       "      <th>4</th>\n",
       "      <td>-1</td>\n",
       "      <td>-1</td>\n",
       "      <td>0</td>\n",
       "      <td>0</td>\n",
       "      <td>0</td>\n",
       "      <td>0</td>\n",
       "      <td>0</td>\n",
       "      <td>0</td>\n",
       "      <td>0</td>\n",
       "      <td>0</td>\n",
       "      <td>...</td>\n",
       "      <td>0</td>\n",
       "      <td>0</td>\n",
       "      <td>0</td>\n",
       "      <td>1</td>\n",
       "      <td>0</td>\n",
       "      <td>1</td>\n",
       "      <td>1</td>\n",
       "      <td>0</td>\n",
       "      <td>1</td>\n",
       "      <td>0</td>\n",
       "    </tr>\n",
       "  </tbody>\n",
       "</table>\n",
       "<p>5 rows × 42195 columns</p>\n",
       "</div>"
      ],
      "text/plain": [
       "   0      1      2      3      4      5      6      7      8      9      ...  \\\n",
       "0      1      1      1      0      0      0      1      0      1      1  ...   \n",
       "1      1      1      1      0      0      0      1      0      1      1  ...   \n",
       "2      0      0      0      0      0      0      0      0      0      0  ...   \n",
       "3      0      0      0      0      0      0      0      0      0      0  ...   \n",
       "4     -1     -1      0      0      0      0      0      0      0      0  ...   \n",
       "\n",
       "   42185  42186  42187  42188  42189  42190  42191  42192  42193  42194  \n",
       "0      0      0      0      1      1      1      1      0      0      0  \n",
       "1      0      0      0      1      1      1      1      0      0      0  \n",
       "2      0      0      0      1      0      1      1      0      1      0  \n",
       "3      0      0      0      1      0      1      1      0      1      0  \n",
       "4      0      0      0      1      0      1      1      0      1      0  \n",
       "\n",
       "[5 rows x 42195 columns]"
      ]
     },
     "execution_count": 34,
     "metadata": {},
     "output_type": "execute_result"
    }
   ],
   "source": [
    "# create dataframe of haplotypes by transposing the array (with out transposing, memory is too much and getting error)\n",
    "haps_df=pd.DataFrame(haps.T)\n",
    "haps_df.head()"
   ]
  },
  {
   "cell_type": "code",
   "execution_count": 13,
   "id": "be926439",
   "metadata": {},
   "outputs": [],
   "source": [
    "#print('dtype:', haps.dtype)\n",
    "#print('shape:',haps.shape)\n",
    "#print('No of assays/rows:',haps.n_variants)\n",
    "#print('No of samples/columns:', haps.n_haplotypes)"
   ]
  },
  {
   "cell_type": "code",
   "execution_count": 14,
   "id": "cf9fb184",
   "metadata": {},
   "outputs": [],
   "source": [
    "# Allele calls for a single variant at all haplotypes/samples\n",
    "#haps[1]"
   ]
  },
  {
   "cell_type": "code",
   "execution_count": 15,
   "id": "a9554960",
   "metadata": {},
   "outputs": [],
   "source": [
    "#A single haplotype/sample can be obtained by indexing the second dimension\n",
    "#haps[:, 1]"
   ]
  },
  {
   "cell_type": "code",
   "execution_count": 16,
   "id": "08a8fbba",
   "metadata": {},
   "outputs": [],
   "source": [
    "# allele call for a single haplotype/sample at a single variant \n",
    "#haps[1, 0]"
   ]
  },
  {
   "cell_type": "code",
   "execution_count": 17,
   "id": "2b254b2a",
   "metadata": {},
   "outputs": [],
   "source": [
    "# Reshape a haplotype array as diploid genotypes\n",
    "#haps.to_genotypes(ploidy=2) # i.e reverting back to GenotypeArray"
   ]
  },
  {
   "cell_type": "code",
   "execution_count": null,
   "id": "e40cbb55",
   "metadata": {},
   "outputs": [],
   "source": [
    "# create dataframe of haplotypes by transposing the array (with out transposing, memory is too much and getting error)\n",
    "haps_df=pd.DataFrame(haps.T)\n",
    "haps_df.head()  # so markers turned as columns; GE's as rows"
   ]
  },
  {
   "cell_type": "code",
   "execution_count": null,
   "id": "487f0314",
   "metadata": {},
   "outputs": [],
   "source": [
    "result = haps_df1.groupby(np.arange(len(haps_df1))//2).sum()\n",
    "result"
   ]
  },
  {
   "cell_type": "code",
   "execution_count": 19,
   "id": "e25b1b55",
   "metadata": {},
   "outputs": [
    {
     "data": {
      "text/plain": [
       "(40174, 42195)"
      ]
     },
     "execution_count": 19,
     "metadata": {},
     "output_type": "execute_result"
    }
   ],
   "source": [
    "haps_df.shape"
   ]
  },
  {
   "cell_type": "code",
   "execution_count": null,
   "id": "82ee1a14",
   "metadata": {},
   "outputs": [],
   "source": [
    "haps_df.to_csv('input_data.csv.gz')"
   ]
  },
  {
   "cell_type": "code",
   "execution_count": null,
   "id": "5cf82951",
   "metadata": {},
   "outputs": [],
   "source": [
    "df_iterator = pd.read_csv('input_data.csv.gz', chunksize=1000, compression='gzip')\n",
    "\n",
    "for i, df_chunk in enumerate(df_iterator):\n",
    "\n",
    "    df_chunk.groupby(np.arange(len(df_chunk))//2).sum()\n",
    "    #do_something(df_chunk)\n",
    "    \n",
    "    # Set writing mode to append after first chunk\n",
    "    mode = 'w' if i == 0 else 'a'\n",
    "    \n",
    "    # Add header if it is the first chunk\n",
    "    header = i == 0\n",
    "\n",
    "    df_chunk.to_csv(\n",
    "        \"dst_data.csv.gz\",\n",
    "        index=False,  # Skip index column\n",
    "        header=header, \n",
    "        mode=mode,\n",
    "        compression='gzip')"
   ]
  },
  {
   "cell_type": "code",
   "execution_count": null,
   "id": "689e9e48",
   "metadata": {},
   "outputs": [],
   "source": [
    "dataset=pd.read_csv(\"dst_data.csv.gz\")\n",
    "dataset.head()"
   ]
  },
  {
   "cell_type": "code",
   "execution_count": null,
   "id": "c12e0051",
   "metadata": {},
   "outputs": [],
   "source": [
    "## because of memory issue, I am reading chunks of 1000 rows from haps_df a"
   ]
  },
  {
   "cell_type": "code",
   "execution_count": null,
   "id": "38b221c6",
   "metadata": {},
   "outputs": [],
   "source": [
    "from more_itertools import sliced\n",
    "CHUNK_SIZE = 1000\n",
    "\n",
    "index_slices = sliced(range(len(haps_df)), CHUNK_SIZE)\n",
    "\n",
    "#data=[]\n",
    "for index_slice in index_slices:\n",
    "    chunk = haps_df.iloc[index_slice] # your dataframe chunk ready for use\n",
    "    result = chunk.groupby(np.arange(len(chunk))//2).sum() \n",
    "    #data.append(result)\n",
    "    result.to_csv('modified.csv')\n",
    "    \n"
   ]
  },
  {
   "cell_type": "code",
   "execution_count": null,
   "id": "fc0999e9",
   "metadata": {},
   "outputs": [],
   "source": [
    "chunked_df = pd.DataFrame(data)\n",
    "chunked_df.head()"
   ]
  },
  {
   "cell_type": "code",
   "execution_count": null,
   "id": "6855f945",
   "metadata": {},
   "outputs": [],
   "source": [
    "haps_df1=haps_df.head()\n",
    "haps_df1"
   ]
  },
  {
   "cell_type": "code",
   "execution_count": null,
   "id": "63013b19",
   "metadata": {},
   "outputs": [],
   "source": [
    "haps_df1.shape"
   ]
  },
  {
   "cell_type": "code",
   "execution_count": null,
   "id": "0afe306d",
   "metadata": {},
   "outputs": [],
   "source": [
    "result = haps_df1.groupby(np.arange(len(haps_df1))//2).sum()\n",
    "result"
   ]
  },
  {
   "cell_type": "code",
   "execution_count": null,
   "id": "2eb4062a",
   "metadata": {},
   "outputs": [],
   "source": [
    "combined_df=pd.concat([df1, samples_df])"
   ]
  },
  {
   "cell_type": "markdown",
   "id": "68e855d0",
   "metadata": {},
   "source": [
    "# vcf_to_hdf5()\n",
    "\n",
    "For large datasets, vcf to hdf5 is good; HDF5 file stored on disk."
   ]
  },
  {
   "cell_type": "code",
   "execution_count": null,
   "id": "4547c35d",
   "metadata": {},
   "outputs": [],
   "source": [
    "#vcf_path='soysnp50k_wm82.a2_41317.vcf.gz'"
   ]
  },
  {
   "cell_type": "code",
   "execution_count": null,
   "id": "c4226754",
   "metadata": {},
   "outputs": [],
   "source": [
    "allel.vcf_to_hdf5('soysnp50k_wm82.a2_41317.vcf.gz', 'soysnp50k_wm82.a2.h5', fields='*', overwrite=True)"
   ]
  },
  {
   "cell_type": "code",
   "execution_count": null,
   "id": "cbc8eb17",
   "metadata": {},
   "outputs": [],
   "source": [
    "df1.shape"
   ]
  },
  {
   "cell_type": "code",
   "execution_count": null,
   "id": "41341faf",
   "metadata": {},
   "outputs": [],
   "source": [
    "callset_fn = 'soysnp50k_wm82.a2.h5'\n",
    "callset = h5py.File(callset_fn, mode='r')\n",
    "callset"
   ]
  },
  {
   "cell_type": "code",
   "execution_count": null,
   "id": "5fd3d7d5",
   "metadata": {},
   "outputs": [],
   "source": [
    "callset.keys()"
   ]
  },
  {
   "cell_type": "code",
   "execution_count": null,
   "id": "3f23fc04",
   "metadata": {},
   "outputs": [],
   "source": [
    "chrom = callset['variants/CHROM']\n",
    "chrom[1:5]"
   ]
  },
  {
   "cell_type": "code",
   "execution_count": null,
   "id": "1a5c0d67",
   "metadata": {},
   "outputs": [],
   "source": [
    "pos = callset['variants/POS']\n",
    "pos"
   ]
  },
  {
   "cell_type": "code",
   "execution_count": null,
   "id": "e411f624",
   "metadata": {},
   "outputs": [],
   "source": [
    "# load all items into NumPy array\n",
    "pos[1:3]"
   ]
  },
  {
   "cell_type": "code",
   "execution_count": null,
   "id": "e3a7e5ed",
   "metadata": {},
   "outputs": [],
   "source": [
    "# load genotype calls into memory for second to fourth variants, all samples\n",
    "gt = callset['calldata/GT']\n",
    "gt\n"
   ]
  },
  {
   "cell_type": "code",
   "execution_count": null,
   "id": "9dc06216",
   "metadata": {},
   "outputs": [],
   "source": [
    "genotypes=allel.GenotypeArray(gt)\n",
    "genotypes"
   ]
  },
  {
   "cell_type": "code",
   "execution_count": null,
   "id": "fbd6baca",
   "metadata": {},
   "outputs": [],
   "source": [
    "geno_array=genotypes.reshape(genotypes.shape[0], genotypes.shape[1], genotypes.shape[2])\n",
    "geno_array.shape"
   ]
  },
  {
   "cell_type": "code",
   "execution_count": null,
   "id": "4d1e92cb",
   "metadata": {},
   "outputs": [],
   "source": [
    "import pandas as pd\n",
    "df = pd.DataFrame(geno_array)\n",
    "#df.to_csv('50k_geno_calls.csv')\n",
    "df.head()"
   ]
  },
  {
   "cell_type": "markdown",
   "id": "99d42d0b",
   "metadata": {},
   "source": [
    "# pick a chromosome to work"
   ]
  },
  {
   "cell_type": "code",
   "execution_count": null,
   "id": "ff5745eb",
   "metadata": {},
   "outputs": [],
   "source": [
    "chrom = 'scaffold_759'"
   ]
  },
  {
   "cell_type": "markdown",
   "id": "64de2cef",
   "metadata": {},
   "source": [
    "# Visualize variant density\n",
    "\n",
    "Plot shows how many SNPs are there and how they are distributed along the chromosome"
   ]
  },
  {
   "cell_type": "raw",
   "id": "9395d59f",
   "metadata": {},
   "source": [
    "# data on SNP positions and various other attributes of the SNPs are stored in the HDF5 fileEach of these can be treated as a column in a table"
   ]
  },
  {
   "cell_type": "markdown",
   "id": "cd6f8b86",
   "metadata": {},
   "source": [
    "# Filtering\n",
    "\n",
    "Drop any polymorphic SNP with rate of missing & het alleles >0.1 among the 19,648 soybean and wild soybean accessions. The het allele calls in the remaining loci were set as missing in the subsequent analysis\n"
   ]
  },
  {
   "cell_type": "markdown",
   "id": "7d763ce4",
   "metadata": {},
   "source": [
    "# Similarity analysis\n",
    "Genetic similarity between pairs of genotypes among the 18,480 cultivated and among the 1168 wild accessions was calculated as the ratio of\n",
    "the number of identical SNP allele calls and the total number of SNPs for\n",
    "which allele calls were made for the pair"
   ]
  },
  {
   "cell_type": "markdown",
   "id": "e4b1d0c0",
   "metadata": {},
   "source": [
    "# Cluster analysis\n",
    "Pair-wise distance among the accessions of 806 wild and 5396 landrace\n",
    "soybeans was obtained based on the allelic dissimilarity of the 42,509\n",
    "SNPs; the neighbor-joining tree was constructed"
   ]
  },
  {
   "cell_type": "markdown",
   "id": "ab6a4df4",
   "metadata": {},
   "source": [
    "# LD analysis\n",
    "LD was analyzed within the wild, landrace, and N. Am. cultivar\n",
    "populations with 806, 5396, and 562 accessions, respectively. Only\n",
    "the SNPs with minor allele frequency $5% were included for LD calculation and construction of haplotype blocks. Calculation of pairwise\n",
    "LD (r2\n",
    ") among SNPs and identification of haplotype blocks was based\n",
    "upon SNPs within 1-Mb windows using the software PLINK (Purcell\n",
    "et al. 2007)."
   ]
  },
  {
   "cell_type": "code",
   "execution_count": null,
   "id": "d07cb3d0",
   "metadata": {},
   "outputs": [],
   "source": [
    "# Dendrogam of wild and landrace genotypes from different countries."
   ]
  },
  {
   "cell_type": "code",
   "execution_count": null,
   "id": "4f38fb43",
   "metadata": {},
   "outputs": [],
   "source": []
  }
 ],
 "metadata": {
  "kernelspec": {
   "display_name": "Python 3 (ipykernel)",
   "language": "python",
   "name": "python3"
  },
  "language_info": {
   "codemirror_mode": {
    "name": "ipython",
    "version": 3
   },
   "file_extension": ".py",
   "mimetype": "text/x-python",
   "name": "python",
   "nbconvert_exporter": "python",
   "pygments_lexer": "ipython3",
   "version": "3.7.11"
  }
 },
 "nbformat": 4,
 "nbformat_minor": 5
}
